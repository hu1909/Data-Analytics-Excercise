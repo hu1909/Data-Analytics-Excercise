{
 "cells": [
  {
   "cell_type": "markdown",
   "id": "417e7713",
   "metadata": {},
   "source": [
    "## Question 1 \n",
    "\n",
    "Create classes demonstrating method overriding:\n",
    "\n",
    "1. Vehicle base class with method describe() that returns \"A vehicle\"\n",
    "\n",
    "2. Car class inherits from Vehicle and overrides describe() to return \"A car\"\n",
    "\n",
    "3. Motorcycle class inherits from Vehicle and overrides describe() to return \"A motorcycle\"\n",
    "\n",
    "4. Function get_description(vehicle) that calls describe() on any Vehicle\n",
    "\n",
    "Example: get_description(Car()) → \"A car\""
   ]
  },
  {
   "cell_type": "code",
   "execution_count": 1,
   "id": "60cf52de",
   "metadata": {},
   "outputs": [
    {
     "data": {
      "text/plain": [
       "'A car'"
      ]
     },
     "execution_count": 1,
     "metadata": {},
     "output_type": "execute_result"
    }
   ],
   "source": [
    "class Vehicle:\n",
    "    # TODO: Complete Vehicle base class\n",
    "    # 1. Add describe() method\n",
    "    def describe(self): \n",
    "        return \"A vehicle\"\n",
    "\n",
    "class Car(Vehicle):\n",
    "    # TODO: Complete Car class\n",
    "    # 1. Override describe() method\n",
    "    def describe(self): \n",
    "        return \"A car\"\n",
    "\n",
    "class Motorcycle(Vehicle):\n",
    "    # TODO: Complete Motorcycle class\n",
    "    # 1. Override describe() method\n",
    "    def describe(self):\n",
    "        return \"A motorcycle\"\n",
    "\n",
    "def get_description(vehicle):\n",
    "    return vehicle.describe()\n",
    "\n",
    "get_description(Car())"
   ]
  },
  {
   "cell_type": "markdown",
   "id": "015e5358",
   "metadata": {},
   "source": [
    "## Question 2\n",
    "\n",
    "Create a class called Rectangle that:\n",
    "\n",
    "1. Has constructor with width and height parameters\n",
    "\n",
    "2. Has private instance variables _width and _height\n",
    "\n",
    "3. Has properties width and height that return the values\n",
    "\n",
    "4. Has method area() that returns width * height\n",
    "\n",
    "Example: Rectangle(5, 3).area() → 15"
   ]
  },
  {
   "cell_type": "code",
   "execution_count": 3,
   "id": "b37ec92a",
   "metadata": {},
   "outputs": [
    {
     "name": "stdout",
     "output_type": "stream",
     "text": [
      "15\n"
     ]
    }
   ],
   "source": [
    "class Rectangle:\n",
    "    # TODO: Complete this class\n",
    "    def __init__(self, width, height):\n",
    "        self._width = width\n",
    "        self._height = height \n",
    "\n",
    "    @property\n",
    "    def width(self):\n",
    "        return self._width\n",
    "    \n",
    "    @property\n",
    "    def height(self):\n",
    "        return self._height\n",
    "\n",
    "    def area(self): \n",
    "        return self._width * self._height\n",
    "\n",
    "print(Rectangle(5,3).area())"
   ]
  },
  {
   "cell_type": "markdown",
   "id": "0e6a6b21",
   "metadata": {},
   "source": [
    "## Question 3\n",
    "\n",
    "Create a context manager class Timer that:\n",
    "\n",
    "1. Has __enter__ method that prints \"Starting timer\" and returns self\n",
    "\n",
    "2. Has __exit__ method that prints \"Timer finished\"\n",
    "\n",
    "3. Has method get_duration() that returns \"5 seconds\"\n",
    "\n",
    "Example: with Timer() as t: print(t.get_duration()) → \"Starting timer\" \"5 seconds\" \"Timer finished\""
   ]
  },
  {
   "cell_type": "code",
   "execution_count": null,
   "id": "dfbf3016",
   "metadata": {},
   "outputs": [],
   "source": []
  },
  {
   "cell_type": "markdown",
   "id": "865eccfc",
   "metadata": {},
   "source": [
    "## Question 4\n",
    "\n",
    "Create a base class Animal and a derived class Dog:\n",
    "\n",
    "1. Animal class has: constructor with name, method speak() that returns \"Some sound\"\n",
    "\n",
    "2. Dog class inherits from Animal and overrides speak() to return \"Woof!\"\n",
    "\n",
    "3. Dog class has method fetch() that returns \"Fetching ball\"\n",
    "\n",
    "Example: Dog(\"Buddy\").speak() → \"Woof!\""
   ]
  },
  {
   "cell_type": "code",
   "execution_count": null,
   "id": "be82cfcd",
   "metadata": {},
   "outputs": [],
   "source": []
  },
  {
   "cell_type": "markdown",
   "id": "a081d058",
   "metadata": {},
   "source": [
    "## Question 5 \n",
    "\n",
    "Create a class demonstrating encapsulation:\n",
    "\n",
    "1. Bank class with private variable _balance\n",
    "\n",
    "2. Constructor takes initial_balance parameter\n",
    "\n",
    "3. Public method get_balance() returns the balance\n",
    "\n",
    "4. Public method deposit(amount) adds to balance if amount > 0\n",
    "\n",
    "5. Private method _validate_amount(amount) returns True if amount > 0\n",
    "\n",
    "Example: Bank(100).deposit(50).get_balance() → 150"
   ]
  },
  {
   "cell_type": "code",
   "execution_count": null,
   "id": "693b21e7",
   "metadata": {},
   "outputs": [],
   "source": []
  },
  {
   "cell_type": "markdown",
   "id": "dffd2e4b",
   "metadata": {},
   "source": [
    "## Question 6\n",
    "\n",
    "Create a class demonstrating static variables:\n",
    "\n",
    "1. Config class with static variable DEFAULT_TIMEOUT = 30\n",
    "\n",
    "2. Static variable MAX_RETRIES = 3\n",
    "\n",
    "3. Class method get_config() returns dict with both values\n",
    "\n",
    "4. Class method set_timeout(timeout) updates DEFAULT_TIMEOUT\n",
    "\n",
    "5. Instance method get_instance_config() returns instance-specific config\n",
    "\n",
    "Example: Config.get_config() → {\"timeout\": 30, \"retries\": 3}"
   ]
  },
  {
   "cell_type": "code",
   "execution_count": null,
   "id": "a25dbbea",
   "metadata": {},
   "outputs": [],
   "source": []
  },
  {
   "cell_type": "markdown",
   "id": "c4751e71",
   "metadata": {},
   "source": [
    "## Question 7\n",
    "\n",
    "Create a class demonstrating class variables:\n",
    "\n",
    "1. Counter class with class variable _count initialized to 0\n",
    "\n",
    "2. Constructor increments _count and assigns instance number\n",
    "\n",
    "3. Class method get_total_count() returns total number of instances\n",
    "\n",
    "4. Instance method get_number() returns instance number\n",
    "\n",
    "Example: Counter(); Counter(); Counter.get_total_count() → 3"
   ]
  },
  {
   "cell_type": "code",
   "execution_count": null,
   "id": "ee9ccf9e",
   "metadata": {},
   "outputs": [],
   "source": []
  },
  {
   "cell_type": "markdown",
   "id": "16f8bb1e",
   "metadata": {},
   "source": [
    "## Question 8\n",
    "\n",
    "Create classes demonstrating polymorphism:\n",
    "\n",
    "1. Animal base class with abstract method make_sound()\n",
    "\n",
    "2. Dog class that inherits from Animal and implements make_sound()\n",
    "\n",
    "3. Cat class that inherits from Animal and implements make_sound()\n",
    "\n",
    "4. Function animal_sound(animal) that calls make_sound() on any Animal\n",
    "\n",
    "Example: animal_sound(Dog()) → \"Woof!\""
   ]
  },
  {
   "cell_type": "code",
   "execution_count": null,
   "id": "c0673966",
   "metadata": {},
   "outputs": [],
   "source": []
  },
  {
   "cell_type": "markdown",
   "id": "daa4da1b",
   "metadata": {},
   "source": [
    "## Question 9\n",
    "\n",
    "Create a singleton class Database that:\n",
    "\n",
    "1. Has class variable _instance to store the single instance\n",
    "\n",
    "2. Has __new__ method that creates only one instance\n",
    "\n",
    "3. Has method get_data() that returns \"Database data\"\n",
    "\n",
    "4. Ensures only one instance exists across all instantiations\n",
    "\n",
    "Example: Database() is Database() → True"
   ]
  },
  {
   "cell_type": "code",
   "execution_count": null,
   "id": "d620aef0",
   "metadata": {},
   "outputs": [],
   "source": []
  },
  {
   "cell_type": "markdown",
   "id": "47856d5d",
   "metadata": {},
   "source": [
    "## Question 10 \n",
    "\n",
    "Create a class called Calculator that:\n",
    "\n",
    "1. Has constructor with no parameters\n",
    "\n",
    "2. Has method add(a, b) that returns a + b\n",
    "\n",
    "3. Has method multiply(a, b) that returns a * b\n",
    "\n",
    "Example: Calculator().add(5, 3) → 8"
   ]
  },
  {
   "cell_type": "code",
   "execution_count": null,
   "id": "7b27c9ea",
   "metadata": {},
   "outputs": [],
   "source": [
    "class Calculator:\n",
    "    # TODO: Complete this class\n",
    "    def __init__(self):\n",
    "        pass"
   ]
  },
  {
   "cell_type": "markdown",
   "id": "e1af1ad7",
   "metadata": {},
   "source": [
    "## Question 11 \n",
    "\n",
    "Create a class demonstrating method chaining:\n",
    "\n",
    "1. StringBuilder class with private variable _text initialized to empty string\n",
    "\n",
    "2. Method add_text(text) appends text and returns self\n",
    "\n",
    "3. Method add_number(num) appends str(num) and returns self\n",
    "\n",
    "4. Method clear() resets _text to empty and returns self\n",
    "\n",
    "5. Method get_text() returns the final text\n",
    "\n",
    "Example: StringBuilder().add_text(\"Hello\").add_number(123).get_text() → \"Hello123\""
   ]
  },
  {
   "cell_type": "code",
   "execution_count": null,
   "id": "12e747ec",
   "metadata": {},
   "outputs": [],
   "source": []
  },
  {
   "cell_type": "markdown",
   "id": "c59a0198",
   "metadata": {},
   "source": [
    "## Question 12\n",
    "\n",
    "Create a class called MathUtils that:\n",
    "\n",
    "1. Has a class method create_from_string(text) that converts text to int and creates instance\n",
    "\n",
    "2. Has a static method is_even(number) that returns True if number is even, False otherwise\n",
    "\n",
    "3. Has instance method get_value() that returns the stored number\n",
    "\n",
    "Example: MathUtils.create_from_string(\"42\").get_value() → 42\n",
    "\n"
   ]
  },
  {
   "cell_type": "code",
   "execution_count": null,
   "id": "94d3d6fd",
   "metadata": {},
   "outputs": [],
   "source": []
  },
  {
   "cell_type": "markdown",
   "id": "9d8223bc",
   "metadata": {},
   "source": [
    "## Question 13\n",
    "\n",
    "Create an abstract base class Shape and concrete class Circle:\n",
    "\n",
    "1. Shape class has abstract method area() that must be implemented\n",
    "\n",
    "2. Circle class inherits from Shape and implements area() method\n",
    "\n",
    "3. Circle constructor takes radius parameter\n",
    "\n",
    "4. Circle area() returns π * radius² (use 3.14159 for π)\n",
    "\n",
    "Example: Circle(5).area() → 78.53975"
   ]
  },
  {
   "cell_type": "code",
   "execution_count": null,
   "id": "7717ce36",
   "metadata": {},
   "outputs": [],
   "source": []
  },
  {
   "cell_type": "markdown",
   "id": "9b0436ac",
   "metadata": {},
   "source": [
    "## Question 14\n",
    "\n",
    "Create classes with multiple inheritance:\n",
    "\n",
    "1. Flyable class with method fly() that returns \"Flying high\"\n",
    "\n",
    "2. Swimmable class with method swim() that returns \"Swimming deep\"\n",
    "\n",
    "3. Duck class inherits from both Flyable and Swimmable\n",
    "\n",
    "4. Duck has method quack() that returns \"Quack quack\"\n",
    "\n",
    "Example: Duck().fly() → \"Flying high\"\n",
    "\n"
   ]
  },
  {
   "cell_type": "code",
   "execution_count": null,
   "id": "9243ff64",
   "metadata": {},
   "outputs": [],
   "source": []
  },
  {
   "cell_type": "markdown",
   "id": "edd25b60",
   "metadata": {},
   "source": [
    "## Question 15 \n",
    "\n",
    "Create an iterator class NumberIterator that:\n",
    "\n",
    "1. Has constructor that takes start and end parameters\n",
    "\n",
    "2. Has __iter__ method that returns self\n",
    "\n",
    "3. Has __next__ method that returns next number or raises StopIteration\n",
    "\n",
    "4. Iterates from start to end (inclusive)\n",
    "\n",
    "Example: list(NumberIterator(1, 3)) → [1, 2, 3]\n",
    "\n"
   ]
  },
  {
   "cell_type": "code",
   "execution_count": null,
   "id": "376e4845",
   "metadata": {},
   "outputs": [],
   "source": []
  },
  {
   "cell_type": "markdown",
   "id": "d8da6766",
   "metadata": {},
   "source": [
    "## Question 16 \n",
    "\n",
    "Create a class called BankAccount that:\n",
    "\n",
    "1. Has constructor with account_number and balance parameters\n",
    "\n",
    "2. Stores these as instance variables\n",
    "\n",
    "3. Has method get_balance() that returns the balance\n",
    "\n",
    "4. Has method deposit(amount) that adds amount to balance\n",
    "\n",
    "Example: BankAccount(\"123\", 100).deposit(50).get_balance() → 150"
   ]
  },
  {
   "cell_type": "code",
   "execution_count": null,
   "id": "1dc9fb72",
   "metadata": {},
   "outputs": [],
   "source": []
  },
  {
   "cell_type": "markdown",
   "id": "1cf5c4ea",
   "metadata": {},
   "source": [
    "## Question 17\n",
    "\n",
    "Create classes demonstrating composition:\n",
    "\n",
    "1. Engine class with method start() that returns \"Engine started\"\n",
    "\n",
    "2. Car class that has an Engine instance (composition)\n",
    "\n",
    "3. Car constructor creates Engine instance\n",
    "\n",
    "4. Car has method drive() that calls engine.start() and returns \"Car driving\"\n",
    "\n",
    "Example: Car().drive() → \"Engine started\" \"Car driving\""
   ]
  },
  {
   "cell_type": "code",
   "execution_count": null,
   "id": "720b788f",
   "metadata": {},
   "outputs": [],
   "source": []
  },
  {
   "cell_type": "markdown",
   "id": "a9f6caf5",
   "metadata": {},
   "source": [
    "## Question 18\n",
    "\n",
    "Create a class demonstrating private methods:\n",
    "\n",
    "1. PasswordManager class with private variable _password\n",
    "\n",
    "2. Constructor takes password parameter\n",
    "\n",
    "3. Public method check_password(attempt) returns True if correct\n",
    "\n",
    "4. Private method _hash_password(password) returns \"hashed_\" + password\n",
    "\n",
    "5. Private method _validate_input(password) returns True if len > 3\n",
    "\n",
    "Example: PasswordManager(\"secret\").check_password(\"secret\") → True"
   ]
  },
  {
   "cell_type": "code",
   "execution_count": null,
   "id": "92958c45",
   "metadata": {},
   "outputs": [],
   "source": []
  },
  {
   "cell_type": "markdown",
   "id": "e7e14cb4",
   "metadata": {},
   "source": [
    "## Question 19\n",
    "\n",
    "Create a class called Student that:\n",
    "\n",
    "1. Has constructor with name and age parameters\n",
    "\n",
    "2. Has instance variables for name and age\n",
    "\n",
    "3. Has method get_info() that returns \"Name: {name}, Age: {age}\"\n",
    "\n",
    "Example: Student(\"John\", 20).get_info() → \"Name: John, Age: 20\""
   ]
  },
  {
   "cell_type": "code",
   "execution_count": null,
   "id": "1d29d2ad",
   "metadata": {},
   "outputs": [],
   "source": []
  },
  {
   "cell_type": "markdown",
   "id": "85a1d9ae",
   "metadata": {},
   "source": [
    "## Question 20 \n",
    "\n",
    "Create a class called Point that:\n",
    "\n",
    "1. Has constructor with x and y coordinates\n",
    "\n",
    "2. Has __str__ method that returns \"Point(x, y)\"\n",
    "\n",
    "3. Has __eq__ method that compares two points for equality\n",
    "\n",
    "4. Has __add__ method that adds two points (x1+x2, y1+y2)\n",
    "\n",
    "Example: Point(1, 2) + Point(3, 4) → Point(4, 6)"
   ]
  },
  {
   "cell_type": "code",
   "execution_count": null,
   "id": "e9f67be6",
   "metadata": {},
   "outputs": [],
   "source": []
  }
 ],
 "metadata": {
  "kernelspec": {
   "display_name": "Python 3",
   "language": "python",
   "name": "python3"
  },
  "language_info": {
   "codemirror_mode": {
    "name": "ipython",
    "version": 3
   },
   "file_extension": ".py",
   "mimetype": "text/x-python",
   "name": "python",
   "nbconvert_exporter": "python",
   "pygments_lexer": "ipython3",
   "version": "3.13.3"
  }
 },
 "nbformat": 4,
 "nbformat_minor": 5
}
