{
 "cells": [
  {
   "cell_type": "markdown",
   "id": "397810f1",
   "metadata": {},
   "source": [
    "## Question 1 \n",
    "\n",
    "What is the different between a list and a tuple ? \n",
    "\n",
    "- A list is ordered and mutable \n",
    "- A tuple is ordered and immutable "
   ]
  },
  {
   "cell_type": "markdown",
   "id": "d6a0f427",
   "metadata": {},
   "source": [
    "## Question 2 \n",
    "\n",
    "How do you create an empty dictionary ? "
   ]
  },
  {
   "cell_type": "code",
   "execution_count": null,
   "id": "08f38f72",
   "metadata": {},
   "outputs": [],
   "source": [
    "emp_dict = {}"
   ]
  },
  {
   "cell_type": "markdown",
   "id": "6c9d1c20",
   "metadata": {},
   "source": [
    "## Question 3 \n",
    "\n",
    "Predict the output "
   ]
  },
  {
   "cell_type": "code",
   "execution_count": null,
   "id": "cf1fd7db",
   "metadata": {},
   "outputs": [],
   "source": [
    "my_set = {1, 2, 3, 2}\n",
    "print(my_set)\n"
   ]
  },
  {
   "cell_type": "markdown",
   "id": "b6a69d1e",
   "metadata": {},
   "source": [
    "The output is {1,2,3}"
   ]
  },
  {
   "cell_type": "markdown",
   "id": "3d6080aa",
   "metadata": {},
   "source": [
    "## Question 4 \n",
    "\n",
    "Which list method removes and returns the last element? \n",
    "\n",
    "pop() method \n",
    "\n"
   ]
  },
  {
   "cell_type": "code",
   "execution_count": 11,
   "id": "0ebcf2a6",
   "metadata": {},
   "outputs": [
    {
     "name": "stdout",
     "output_type": "stream",
     "text": [
      "6\n"
     ]
    }
   ],
   "source": [
    "another_list = [1,2,3,4,5,6]\n",
    "\n",
    "print(another_list.pop())\n",
    "\n",
    "\n"
   ]
  },
  {
   "cell_type": "markdown",
   "id": "ecec211d",
   "metadata": {},
   "source": [
    "## Question 5 \n",
    "\n",
    "Write a one-liner to create a tuple containing numbers 1 to 5 "
   ]
  },
  {
   "cell_type": "code",
   "execution_count": null,
   "id": "22f06aaa",
   "metadata": {},
   "outputs": [],
   "source": [
    "new_tuple = {1,2,3,4,5}"
   ]
  },
  {
   "cell_type": "markdown",
   "id": "87ce0aff",
   "metadata": {},
   "source": [
    "## Question 6 \n",
    "\n",
    "How do you check if a key exists in a dictionary ? "
   ]
  },
  {
   "cell_type": "code",
   "execution_count": 1,
   "id": "e8bc2b9e",
   "metadata": {},
   "outputs": [
    {
     "name": "stdout",
     "output_type": "stream",
     "text": [
      "True\n"
     ]
    }
   ],
   "source": [
    "key_to_find = \"Name\"\n",
    "\n",
    "test_dict = {\"Name\": \"John\", \"Age\": 24, \"Job\": \"Sale\"}\n",
    "\n",
    "check_value = True if key_to_find in test_dict.keys() else False\n",
    "\n",
    "print(check_value)"
   ]
  },
  {
   "cell_type": "markdown",
   "id": "424512cc",
   "metadata": {},
   "source": [
    "## Question 7 \n",
    "\n",
    "Predict the output: "
   ]
  },
  {
   "cell_type": "code",
   "execution_count": null,
   "id": "87cda8e5",
   "metadata": {},
   "outputs": [],
   "source": [
    "fruits = [\"apple\", \"banana\", \"cherry\"]\n",
    "print(fruits[1])"
   ]
  },
  {
   "cell_type": "markdown",
   "id": "fdd26845",
   "metadata": {},
   "source": [
    "The output is: banana"
   ]
  },
  {
   "cell_type": "markdown",
   "id": "62b93648",
   "metadata": {},
   "source": [
    "## Question 8 \n",
    "\n",
    "Can sets contain duplicate values ? \n",
    "\n",
    "No, set cannot contain duplicate values "
   ]
  },
  {
   "cell_type": "markdown",
   "id": "bca4176a",
   "metadata": {},
   "source": [
    "## Question 9 \n",
    "\n",
    "Which operator is used to concatenate 2 lists ? \n",
    "\n",
    "extend() method"
   ]
  },
  {
   "cell_type": "code",
   "execution_count": 9,
   "id": "b27eff2e",
   "metadata": {},
   "outputs": [
    {
     "name": "stdout",
     "output_type": "stream",
     "text": [
      "['Banana', 'Apple', 'Orange', 1, 2, 3, 4, 5]\n"
     ]
    }
   ],
   "source": [
    "list_1 = [\"Banana\", \"Apple\", \"Orange\"]\n",
    "list_2 = [1,2,3,4,5]\n",
    "\n",
    "new_list = list_1.extend(list_2)\n",
    "\n",
    "print(list_1)\n"
   ]
  },
  {
   "cell_type": "markdown",
   "id": "6bff6ac1",
   "metadata": {},
   "source": [
    "## Question 10 \n",
    "\n",
    "How do you get the length of a list in Python ? \n",
    "\n",
    "len() method"
   ]
  },
  {
   "cell_type": "code",
   "execution_count": 10,
   "id": "741cbec0",
   "metadata": {},
   "outputs": [
    {
     "data": {
      "text/plain": [
       "8"
      ]
     },
     "execution_count": 10,
     "metadata": {},
     "output_type": "execute_result"
    }
   ],
   "source": [
    "len(list_1)\n"
   ]
  },
  {
   "cell_type": "markdown",
   "id": "58b55b76",
   "metadata": {},
   "source": [
    "## Question 11 \n",
    "\n",
    "Predict the output: "
   ]
  },
  {
   "cell_type": "code",
   "execution_count": 12,
   "id": "c8047d45",
   "metadata": {},
   "outputs": [
    {
     "name": "stdout",
     "output_type": "stream",
     "text": [
      "[1, 2, 3, 4]\n"
     ]
    }
   ],
   "source": [
    "a = [1, 2, 3]\n",
    "b = a\n",
    "b.append(4)\n",
    "print(a)\n"
   ]
  },
  {
   "cell_type": "markdown",
   "id": "198d4ee0",
   "metadata": {},
   "source": [
    "The output is: [1,2,3,4]"
   ]
  },
  {
   "cell_type": "markdown",
   "id": "d1c267d4",
   "metadata": {},
   "source": [
    "## Question 12 \n",
    "\n",
    "Write a list comprehension that generates [0,1,4,9,16]\n"
   ]
  },
  {
   "cell_type": "code",
   "execution_count": null,
   "id": "d9688fd7",
   "metadata": {},
   "outputs": [
    {
     "name": "stdout",
     "output_type": "stream",
     "text": [
      "[0, 1, 4, 9, 16]\n"
     ]
    }
   ],
   "source": [
    "generate_list = [i**2 for i in range(0,5)]\n",
    "\n",
    "print(generate_list)\n"
   ]
  },
  {
   "cell_type": "markdown",
   "id": "3c202532",
   "metadata": {},
   "source": [
    "## Question 13 \n",
    "\n",
    "How do you reverse a list in place? \n",
    "\n",
    "We can use sorted() method with reverse = True "
   ]
  },
  {
   "cell_type": "code",
   "execution_count": 22,
   "id": "1bd8de54",
   "metadata": {},
   "outputs": [
    {
     "name": "stdout",
     "output_type": "stream",
     "text": [
      "[12, 11, 10, 6, 5, 4, 2, 1]\n"
     ]
    }
   ],
   "source": [
    "insorted_method = [2,4,1,6,5,12,11,10]\n",
    "\n",
    "print(sorted(insorted_method, reverse=True))"
   ]
  },
  {
   "cell_type": "markdown",
   "id": "c6db9773",
   "metadata": {},
   "source": [
    "## Question 14 \n",
    "\n",
    "Predict the output: \n"
   ]
  },
  {
   "cell_type": "code",
   "execution_count": null,
   "id": "39430f7d",
   "metadata": {},
   "outputs": [],
   "source": [
    "nums = [10, 20, 30, 40]\n",
    "print(nums[1:3])"
   ]
  },
  {
   "cell_type": "markdown",
   "id": "acb6d897",
   "metadata": {},
   "source": [
    "The output should be: [20,30]"
   ]
  },
  {
   "cell_type": "markdown",
   "id": "69f7140e",
   "metadata": {},
   "source": [
    "## Question 15\n",
    "\n",
    "What is the difference between `(1)` and `(1,)` ? \n",
    "\n",
    "There are no different between them, just a set with only 1 element"
   ]
  },
  {
   "cell_type": "markdown",
   "id": "595a9968",
   "metadata": {},
   "source": [
    "## Question 16 \n",
    "\n",
    "Why might you use a tuple instead of a list ? \n",
    "\n",
    "As we mention the different between a tuple and a list is immutable and mutable\n",
    "\n",
    "So I think we only use tuple in case we don't allow to change element after we establish "
   ]
  },
  {
   "cell_type": "markdown",
   "id": "026301c1",
   "metadata": {},
   "source": [
    "## Question 17 \n",
    "\n",
    "Predict the output: "
   ]
  },
  {
   "cell_type": "code",
   "execution_count": 23,
   "id": "75bd4f96",
   "metadata": {},
   "outputs": [
    {
     "name": "stdout",
     "output_type": "stream",
     "text": [
      "(1, 2, [3, 4, 5])\n"
     ]
    }
   ],
   "source": [
    "t = (1, 2, [3, 4])\n",
    "t[2].append(5)\n",
    "print(t)"
   ]
  },
  {
   "cell_type": "markdown",
   "id": "31b6cc2a",
   "metadata": {},
   "source": [
    "The output should be: (1,2, [3,4,5])\n",
    "\n",
    "As we can not add or remove an element in tuple but we can do with a list"
   ]
  },
  {
   "cell_type": "markdown",
   "id": "43a68260",
   "metadata": {},
   "source": [
    "## Question 18 \n",
    "\n",
    "How do you find the union and intersection of `{1,2,3}` and `{3,4,5}`\n",
    "\n"
   ]
  },
  {
   "cell_type": "code",
   "execution_count": 24,
   "id": "ca18aff9",
   "metadata": {},
   "outputs": [
    {
     "name": "stdout",
     "output_type": "stream",
     "text": [
      "{3}\n",
      "{1, 2, 3, 4, 5}\n"
     ]
    }
   ],
   "source": [
    "set_1 = {1,2,3}\n",
    "set_2 = {3,4,5}\n",
    "\n",
    "union_set = set_1 & set_2\n",
    "intersection_set = set_1 | set_2\n",
    "\n",
    "print(union_set)\n",
    "print(intersection_set)"
   ]
  },
  {
   "cell_type": "markdown",
   "id": "da630e1b",
   "metadata": {},
   "source": [
    "## Question 19 \n",
    "\n",
    "Predict the output: "
   ]
  },
  {
   "cell_type": "code",
   "execution_count": 26,
   "id": "0be3e9a1",
   "metadata": {},
   "outputs": [
    {
     "name": "stdout",
     "output_type": "stream",
     "text": [
      "{1, 2, 3}\n"
     ]
    }
   ],
   "source": [
    "s = {1, 2, 3}\n",
    "s.discard(4)\n",
    "print(s)"
   ]
  },
  {
   "cell_type": "markdown",
   "id": "25961f5d",
   "metadata": {},
   "source": [
    "As discard() method in set is remove an element and do nothing when we don't find that element \n",
    "\n",
    "=> We can still print the set s as an output "
   ]
  },
  {
   "cell_type": "markdown",
   "id": "88af738e",
   "metadata": {},
   "source": [
    "## Question 20 \n",
    "\n",
    "Which set method removes an element and raises an error if the element is missing ?\n",
    "\n",
    "the remove() method\n",
    "\n"
   ]
  },
  {
   "cell_type": "code",
   "execution_count": 29,
   "id": "977daba4",
   "metadata": {},
   "outputs": [
    {
     "name": "stdout",
     "output_type": "stream",
     "text": [
      "The value does not exist in a set\n"
     ]
    }
   ],
   "source": [
    "try:\n",
    "    s.remove(4)\n",
    "except KeyError:\n",
    "    print(\"The value does not exist in a set\")\n",
    "\n",
    "# s.remove(4)"
   ]
  },
  {
   "cell_type": "markdown",
   "id": "7d3fe3ed",
   "metadata": {},
   "source": [
    "## Question 21 \n",
    "\n",
    "How do you check if 2 sets are disjoint ?\n",
    "\n",
    "I will check if the union of these 2 is empty or not "
   ]
  },
  {
   "cell_type": "code",
   "execution_count": 31,
   "id": "bccd3deb",
   "metadata": {},
   "outputs": [
    {
     "name": "stdout",
     "output_type": "stream",
     "text": [
      "False\n"
     ]
    }
   ],
   "source": [
    "check_value_1 = True if len(union_set) == 0 else False\n",
    "\n",
    "print(check_value_1)"
   ]
  },
  {
   "cell_type": "markdown",
   "id": "6d2f2525",
   "metadata": {},
   "source": [
    "## Question 22 \n",
    "\n",
    "Predict the output:"
   ]
  },
  {
   "cell_type": "code",
   "execution_count": null,
   "id": "d6a2fb8a",
   "metadata": {},
   "outputs": [],
   "source": [
    "s = {1, 2, 3}\n",
    "print(2 in s)\n"
   ]
  },
  {
   "cell_type": "markdown",
   "id": "c0d0abaf",
   "metadata": {},
   "source": [
    "The output should be **True**\n"
   ]
  },
  {
   "cell_type": "markdown",
   "id": "2a05c847",
   "metadata": {},
   "source": [
    "## Question 23\n",
    "\n",
    "Write a dictionary comprehension that maps numbers 1-5 to their squares \n"
   ]
  },
  {
   "cell_type": "code",
   "execution_count": 33,
   "id": "9c8c4d2f",
   "metadata": {},
   "outputs": [
    {
     "name": "stdout",
     "output_type": "stream",
     "text": [
      "{1: 1, 2: 4, 3: 9, 4: 16, 5: 25}\n"
     ]
    }
   ],
   "source": [
    "new_dict = {i : i**2 for i in range(1,6)}\n",
    "\n",
    "print(new_dict)"
   ]
  },
  {
   "cell_type": "markdown",
   "id": "e4ee71a0",
   "metadata": {},
   "source": [
    "## Question 24 \n",
    "\n",
    "Predict the output: "
   ]
  },
  {
   "cell_type": "code",
   "execution_count": null,
   "id": "5f3afe89",
   "metadata": {},
   "outputs": [],
   "source": [
    "d = {\"x\": 1, \"y\": 2}\n",
    "for k, v in d.items():\n",
    "    print(k, v)\n"
   ]
  },
  {
   "cell_type": "markdown",
   "id": "4331849a",
   "metadata": {},
   "source": [
    "The output should be \n",
    "x 1 \n",
    "y 2"
   ]
  },
  {
   "cell_type": "markdown",
   "id": "f388d5ce",
   "metadata": {},
   "source": [
    "## Question 25 \n",
    "\n",
    "What does `d.get(\"c\", 99)` return if key `\"c\"` does not exist? \n",
    "\n",
    "The get() method accept 2 things \n",
    "- \"c\" the key that we are looking for \n",
    "- 99 -> the value if the key is not found\n",
    "\n",
    "So the solution is it returns 99 if the key \"c\" does not exist "
   ]
  },
  {
   "cell_type": "markdown",
   "id": "6578e390",
   "metadata": {},
   "source": [
    "## Question 26 \n",
    "\n",
    "Which dictionary method allows you to remove and return a key-value pair?\n",
    "\n",
    "pop() method"
   ]
  },
  {
   "cell_type": "markdown",
   "id": "0591c261",
   "metadata": {},
   "source": [
    "## Question 27 \n",
    "\n",
    "How do you merge 2 dictionary in Python 3.9+ \n",
    "\n",
    "We can use | operator for Python 3.9+, For example"
   ]
  },
  {
   "cell_type": "code",
   "execution_count": 35,
   "id": "01dca833",
   "metadata": {},
   "outputs": [
    {
     "name": "stdout",
     "output_type": "stream",
     "text": [
      "{1: 1, 2: 4, 3: 9, 4: 16, 5: 25, 'Graduate': 'True', 'Salary': '1k$'}\n"
     ]
    }
   ],
   "source": [
    "another_dict = {\"Graduate\": \"True\", \"Salary\": \"1k$\"}\n",
    "\n",
    "merge_dict = new_dict | another_dict\n",
    "\n",
    "print(merge_dict)"
   ]
  },
  {
   "cell_type": "markdown",
   "id": "10d7cd60",
   "metadata": {},
   "source": [
    "## Question 28 \n",
    "\n",
    "Predict the output: "
   ]
  },
  {
   "cell_type": "code",
   "execution_count": null,
   "id": "55a5ded3",
   "metadata": {},
   "outputs": [],
   "source": [
    "d = {\"a\": [1, 2]}\n",
    "d[\"a\"].append(3)\n",
    "print(d)\n"
   ]
  },
  {
   "cell_type": "markdown",
   "id": "2b6e8254",
   "metadata": {},
   "source": [
    "The output should be: \n",
    "\n",
    "{\"a\": [1,2,3]}"
   ]
  },
  {
   "cell_type": "markdown",
   "id": "575ae77e",
   "metadata": {},
   "source": [
    "## Question 29 \n",
    "\n",
    "Write code to count character frequencies in the string \"banana\" using a dictionary "
   ]
  },
  {
   "cell_type": "code",
   "execution_count": 37,
   "id": "a15f6f1d",
   "metadata": {},
   "outputs": [
    {
     "name": "stdout",
     "output_type": "stream",
     "text": [
      "3\n"
     ]
    }
   ],
   "source": [
    "fruits_dict = {\n",
    "    \"Fav\": \"banana\",\n",
    "    \"Like\": \"banana\",\n",
    "    \"Love\": \"banana\"\n",
    "}\n",
    "\n",
    "count = 0 \n",
    "\n",
    "for i in fruits_dict.keys():\n",
    "    if i == \"banana\": \n",
    "        count+= 1 \n",
    "\n",
    "for i in fruits_dict.values():\n",
    "    if i == \"banana\": \n",
    "        count+= 1 \n",
    "\n",
    "print(count)"
   ]
  },
  {
   "cell_type": "markdown",
   "id": "0f8e83b5",
   "metadata": {},
   "source": [
    "## Question 30 \n",
    "\n",
    "Predict the output: "
   ]
  },
  {
   "cell_type": "code",
   "execution_count": null,
   "id": "e50d96cf",
   "metadata": {},
   "outputs": [],
   "source": [
    "nums = [1, 2, 3]\n",
    "print(list(map(lambda x: x*2, nums)))"
   ]
  },
  {
   "cell_type": "markdown",
   "id": "e7cd289e",
   "metadata": {},
   "source": [
    "The output should be [2,4,6]"
   ]
  },
  {
   "cell_type": "markdown",
   "id": "0cb9a6e5",
   "metadata": {},
   "source": [
    "## Question 31\n",
    "\n",
    "How is filter() different from map() ? \n",
    "\n",
    "filter() function use to return a value that satisfy the function \n",
    "\n",
    "map() function use to apply the function to every element in an iterable"
   ]
  },
  {
   "cell_type": "markdown",
   "id": "75ad85c6",
   "metadata": {},
   "source": [
    "## Question 32 \n",
    "\n",
    "Write code using map() to conver `[\"1\", \"2\", \"3\"]` into `[1,2,3]`"
   ]
  },
  {
   "cell_type": "code",
   "execution_count": 38,
   "id": "4369fb23",
   "metadata": {},
   "outputs": [
    {
     "name": "stdout",
     "output_type": "stream",
     "text": [
      "[1, 2, 3]\n"
     ]
    }
   ],
   "source": [
    "string_list = [\"1\", \"2\", \"3\"]\n",
    "print(list(map(lambda i: int(i), string_list)))"
   ]
  },
  {
   "cell_type": "markdown",
   "id": "367bba14",
   "metadata": {},
   "source": [
    "## Question 33 \n",
    "\n",
    "Write code using filter() to extract even numbers from `[1,2,3,4,5,6]`"
   ]
  },
  {
   "cell_type": "code",
   "execution_count": 39,
   "id": "3629ab66",
   "metadata": {},
   "outputs": [
    {
     "name": "stdout",
     "output_type": "stream",
     "text": [
      "[2, 4, 6]\n"
     ]
    }
   ],
   "source": [
    "int_list = [1,2,3,4,5,6]\n",
    "\n",
    "print(list(filter(lambda i: i%2 == 0, int_list)))\n"
   ]
  },
  {
   "cell_type": "markdown",
   "id": "7628299b",
   "metadata": {},
   "source": [
    "## Question 34\n",
    "\n",
    "Predict the output: "
   ]
  },
  {
   "cell_type": "code",
   "execution_count": null,
   "id": "0160233d",
   "metadata": {},
   "outputs": [],
   "source": [
    "from functools import reduce\n",
    "nums = [1, 2, 3, 4]\n",
    "print(reduce(lambda x, y: x+y, nums))\n"
   ]
  },
  {
   "cell_type": "markdown",
   "id": "8f1e1ce4",
   "metadata": {},
   "source": [
    "The output should be 10 "
   ]
  },
  {
   "cell_type": "markdown",
   "id": "02b9fdd0",
   "metadata": {},
   "source": [
    "## Question 35 \n",
    "\n",
    "Write a one-liner using `reduce()` to compute the product of `[1,2,3,4]`"
   ]
  },
  {
   "cell_type": "code",
   "execution_count": 41,
   "id": "0c19da47",
   "metadata": {},
   "outputs": [
    {
     "name": "stdout",
     "output_type": "stream",
     "text": [
      "24\n"
     ]
    }
   ],
   "source": [
    "from functools import reduce\n",
    "non_product_list = [1,2,3,4]\n",
    "\n",
    "print(reduce(lambda a,b: a*b, non_product_list))"
   ]
  },
  {
   "cell_type": "markdown",
   "id": "8a956f04",
   "metadata": {},
   "source": [
    "## Question 36 \n",
    "\n",
    "Predict the output: "
   ]
  },
  {
   "cell_type": "code",
   "execution_count": 42,
   "id": "ea88f9cd",
   "metadata": {},
   "outputs": [
    {
     "name": "stdout",
     "output_type": "stream",
     "text": [
      "['apple', 'banana', 'cherry']\n"
     ]
    }
   ],
   "source": [
    "words = [\"banana\", \"apple\", \"cherry\"]\n",
    "print(sorted(words, key=len))"
   ]
  },
  {
   "cell_type": "markdown",
   "id": "145d0ee8",
   "metadata": {},
   "source": [
    "The output should be [\"apple\", \"banana\", \"cherry\"]. \n",
    "\n",
    "The reason why banana come first cherry \n",
    "- Both have the same length as 6 -> Need to consider the origin order \n",
    "- As banana is the beginning of the list and cherry is the third one so banana will come first"
   ]
  },
  {
   "cell_type": "markdown",
   "id": "62c9bbe9",
   "metadata": {},
   "source": [
    "## Question 37 \n",
    "\n",
    "How do you sort a dictionary by its values?"
   ]
  },
  {
   "cell_type": "code",
   "execution_count": 43,
   "id": "a2421f8e",
   "metadata": {},
   "outputs": [
    {
     "name": "stdout",
     "output_type": "stream",
     "text": [
      "['Name', 'Salary', 'Age']\n"
     ]
    }
   ],
   "source": [
    "unsorted_dict = {\n",
    "    \"Name\": \"John\",\n",
    "    \"Age\": 24,\n",
    "    \"Salary\": 1000\n",
    "    \n",
    "}\n",
    "\n",
    "print(sorted(unsorted_dict,key=lambda i: i[1]))"
   ]
  },
  {
   "cell_type": "markdown",
   "id": "f9c3ab8f",
   "metadata": {},
   "source": [
    "## Question 38 \n",
    "\n",
    "Predict the output: "
   ]
  },
  {
   "cell_type": "code",
   "execution_count": 44,
   "id": "1e13baea",
   "metadata": {},
   "outputs": [
    {
     "name": "stdout",
     "output_type": "stream",
     "text": [
      "[1, 2, 3]\n"
     ]
    }
   ],
   "source": [
    "data = [0, 1, 2, 3]\n",
    "print(list(filter(None, data)))"
   ]
  },
  {
   "cell_type": "code",
   "execution_count": null,
   "id": "7d21d9a4",
   "metadata": {},
   "outputs": [],
   "source": []
  },
  {
   "cell_type": "markdown",
   "id": "099686af",
   "metadata": {},
   "source": []
  },
  {
   "cell_type": "markdown",
   "id": "a8ca8734",
   "metadata": {},
   "source": [
    "## Question 39 \n",
    "\n",
    "What is the difference between `*args` and `**kwargs` ? "
   ]
  },
  {
   "cell_type": "code",
   "execution_count": null,
   "id": "cce152db",
   "metadata": {},
   "outputs": [],
   "source": []
  },
  {
   "cell_type": "code",
   "execution_count": null,
   "id": "03f1088c",
   "metadata": {},
   "outputs": [],
   "source": []
  }
 ],
 "metadata": {
  "kernelspec": {
   "display_name": "Python 3",
   "language": "python",
   "name": "python3"
  },
  "language_info": {
   "codemirror_mode": {
    "name": "ipython",
    "version": 3
   },
   "file_extension": ".py",
   "mimetype": "text/x-python",
   "name": "python",
   "nbconvert_exporter": "python",
   "pygments_lexer": "ipython3",
   "version": "3.11.11"
  }
 },
 "nbformat": 4,
 "nbformat_minor": 5
}
