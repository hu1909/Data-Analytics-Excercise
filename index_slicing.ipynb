{
 "cells": [
  {
   "cell_type": "markdown",
   "id": "0744ab6e",
   "metadata": {},
   "source": [
    "## Question 1 \n",
    "\n",
    "Create a function that uses advanced indexing to extract elements based on complex conditions.\n",
    "Given a 2D array, extract elements that satisfy the following criteria:\n",
    "Elements in rows where the row sum is greater than the overall array mean\n",
    "AND elements that are in columns where the column contains at least one element greater than 20\n",
    "Return the elements as a 1D array\n",
    "Example:\n",
    "arr = np.array([[15, 25, 5],\n",
    "                [10, 30, 8],\n",
    "                [12, 18, 22]])\n",
    "# Row sums: [45, 48, 52], mean ≈ 48.33\n",
    "# Columns with elements > 20: [True, True, True]\n",
    "# Expected output: [25, 30, 22]"
   ]
  },
  {
   "cell_type": "code",
   "execution_count": null,
   "id": "2624d322",
   "metadata": {},
   "outputs": [],
   "source": [
    "def advanced_conditional_indexing(arr):\n",
    "    # Your code here\n",
    "    pass"
   ]
  },
  {
   "cell_type": "markdown",
   "id": "d391d097",
   "metadata": {},
   "source": [
    "## Question 2 \n",
    "\n",
    "Create a function that extracts elements from a 2D array using strided indexing patterns.\n",
    "Given a 2D array, extract elements using the following pattern:\n",
    "- Start from position (0,0) and take every 2nd element along rows\n",
    "- Take every 3rd element along columns\n",
    "- Return as a 1D array\n",
    "Example:\n",
    "arr = np.arange(20).reshape(4, 5)\n",
    "# arr = [\n",
    "# [ 0 1 2 3 4] \n",
    "# [ 5 6 7 8 9]\n",
    "# [10 11 12 13 14]\n",
    "# [15 16 17 18 19]]\n",
    "# Expected output: [0, 3, 10, 13]"
   ]
  },
  {
   "cell_type": "code",
   "execution_count": null,
   "id": "e0e4a9c5",
   "metadata": {},
   "outputs": [],
   "source": [
    "def strided_array_extraction(arr):\n",
    "    # Your code here\n",
    "    pass"
   ]
  },
  {
   "cell_type": "markdown",
   "id": "93f61a86",
   "metadata": {},
   "source": [
    "## Question 3\n",
    "\n",
    "Use advanced slicing techniques to extract specific patterns from a 3D array.\n",
    "Create a function that extracts elements from a 3D array using the following pattern:\n",
    "Take every 2nd element along axis 0\n",
    "Take elements from index 1 to -1 (exclusive) along axis 1\n",
    "Take every 3rd element along axis 2\n",
    "Example:\n",
    "\n",
    "arr = np.arange(24).reshape(2, 3, 4)\n",
    "# arr = [[[ 0  1  2  3]\n",
    "#         [ 4  5  6  7]\n",
    "#         [ 8  9 10 11]]\n",
    "#        [[12 13 14 15]\n",
    "#         [16 17 18 19]\n",
    "#         [20 21 22 23]]]\n",
    "# Expected output: [[[5 8]]]\n",
    "\n"
   ]
  },
  {
   "cell_type": "code",
   "execution_count": null,
   "id": "e9340924",
   "metadata": {},
   "outputs": [],
   "source": [
    "def multi_dim_slicing(arr):\n",
    "    # Your code here\n",
    "    pass"
   ]
  },
  {
   "cell_type": "markdown",
   "id": "5b9b4fec",
   "metadata": {},
   "source": [
    "## Question 4\n",
    "\n",
    "Use fancy indexing to extract elements from a 2D array using coordinate arrays.\n",
    "Create a function that takes a 2D array and two 1D arrays (row_indices and col_indices) and returns the elements at those coordinates.\n",
    "Requirements:\n",
    "Use fancy indexing to extract elements\n",
    "Handle the case where indices might be out of bounds\n",
    "Return only valid elements (within bounds)\n",
    "Example:\n",
    " \n",
    "arr = np.array([[1, 2, 3, 4],\n",
    "                [5, 6, 7, 8],\n",
    "                [9, 10, 11, 12]])\n",
    "row_indices = np.array([0, 1, 2, 0])\n",
    "col_indices = np.array([1, 2, 3, 4])  # Note: index 4 is out of bounds\n",
    "\n",
    "Expected output: [2, 7, 12] (excluding out-of-bounds element)"
   ]
  },
  {
   "cell_type": "code",
   "execution_count": null,
   "id": "a7ae8b10",
   "metadata": {},
   "outputs": [],
   "source": [
    "def fancy_indexing_safe(arr, row_indices, col_indices):\n",
    "    # Your code here\n",
    "    pass"
   ]
  },
  {
   "cell_type": "markdown",
   "id": "d93307b9",
   "metadata": {},
   "source": [
    "## Question 5\n",
    "\n",
    "Create a function that performs complex multi-axis indexing operations on a 3D array.\n",
    "Given a 3D array, extract elements using the following complex pattern:\n",
    "For each 2D slice along axis 0, extract the diagonal elements\n",
    "From those diagonal elements, keep only those that are greater than the median of their respective slice\n",
    "Return the result as a 1D array\n",
    "Example:\n",
    "arr = np.array([[[1, 2, 3],\n",
    "                  [4, 5, 6],\n",
    "                  [7, 8, 9]],\n",
    "                 [[10, 11, 12],\n",
    "                  [13, 14, 15],\n",
    "                  [16, 17, 18]]])\n",
    "# Diagonals: [1, 5, 9] and [10, 14, 18]\n",
    "# Medians: 5 and 14\n",
    "# Expected output: [9, 18]"
   ]
  },
  {
   "cell_type": "code",
   "execution_count": null,
   "id": "9edad852",
   "metadata": {},
   "outputs": [],
   "source": [
    "def complex_multi_axis_indexing(arr):\n",
    "    # Your code here\n",
    "    pass"
   ]
  },
  {
   "cell_type": "markdown",
   "id": "2ab2f858",
   "metadata": {},
   "source": [
    "## Question 6 \n",
    "\n"
   ]
  },
  {
   "cell_type": "code",
   "execution_count": null,
   "id": "accb4804",
   "metadata": {},
   "outputs": [],
   "source": []
  },
  {
   "cell_type": "markdown",
   "id": "bd5efb78",
   "metadata": {},
   "source": [
    "## Question 7\n",
    "\n",
    "Create a function that performs multi-level indexing on a 3D array with complex conditions.\n",
    "Given a 3D array, extract elements using the following pattern:\n",
    "For each 2D slice along axis 0, find elements in the upper-right quadrant\n",
    "From those elements, keep only those that are greater than the slice mean\n",
    "Return as a 1D array\n",
    "Example:\n",
    "arr = np.array([[[1, 2, 3, 4],\n",
    "                  [5, 6, 7, 8],\n",
    "                  [9, 10, 11, 12]],\n",
    "                 [[13, 14, 15, 16],\n",
    "                  [17, 18, 19, 20],\n",
    "                  [21, 22, 23, 24]]])\n",
    "# Upper-right quadrants: [3, 4] and [15, 16]\n",
    "# Expected output: [15, 16]"
   ]
  },
  {
   "cell_type": "code",
   "execution_count": null,
   "id": "b19ea06f",
   "metadata": {},
   "outputs": [],
   "source": [
    "def multi_level_array_indexing(arr):\n",
    "    # Your code here\n",
    "    pass"
   ]
  },
  {
   "cell_type": "markdown",
   "id": "fbdceb80",
   "metadata": {},
   "source": [
    "## Question 8 \n",
    "\n",
    "Create a function that dynamically selects indices based on array properties.\n",
    "Given a 2D array, extract elements using dynamic index selection:\n",
    "- Find rows where the row sum is in the top 50% of all row sums\n",
    "- From those rows, extract elements at column positions that are multiples of 2\n",
    "- Return as a 1D array\n",
    "Example:\n",
    "arr = np.array([\n",
    "[1, 2, 3, 4],\n",
    "[5, 6, 7, 8],\n",
    "[9, 10, 11, 12]])\n",
    "# Row sums: [10, 26, 42]; Median (50%)= 26; Top 50%: rows index = 1, 2 \n",
    "# Columns 0, 2\n",
    "# Row: 1,2; Cols: 0, 2 => Expected output: [5, 7, 9, 11]"
   ]
  },
  {
   "cell_type": "code",
   "execution_count": null,
   "id": "626a4283",
   "metadata": {},
   "outputs": [],
   "source": [
    "def dynamic_index_selection(arr):\n",
    "    # Your code here\n",
    "    pass"
   ]
  },
  {
   "cell_type": "markdown",
   "id": "646c3459",
   "metadata": {},
   "source": [
    "## Question 9 \n",
    "\n",
    "Given a 2D numpy array, use advanced boolean indexing to extract elements that meet multiple conditions.\n",
    "Create a function that takes a 2D numpy array and returns elements that are:\n",
    "Greater than the mean of the array\n",
    "AND divisible by 3\n",
    "OR less than 10\n",
    "Example:\n",
    "arr = np.array([[12, 5, 8, 15],\n",
    "                [3, 18, 7, 9],\n",
    "                [21, 4, 11, 6]])\n",
    "# Expected output: [12, 5, 8, 15, 3, 7, 9, 21, 4, 11, 6]"
   ]
  },
  {
   "cell_type": "code",
   "execution_count": null,
   "id": "fc93b1aa",
   "metadata": {},
   "outputs": [],
   "source": [
    "def advanced_boolean_indexing(arr):\n",
    "    # Your code here\n",
    "    pass"
   ]
  },
  {
   "cell_type": "markdown",
   "id": "ebc9637c",
   "metadata": {},
   "source": [
    "## Question 10 \n",
    "\n",
    "Create a function that extracts diagonal elements from a 2D array based on conditional criteria.\n",
    "Given a 2D array, extract diagonal elements that satisfy:\n",
    "- Elements that are greater than the mean of the entire array\n",
    "- AND elements that are in positions where the row index equals column index\n",
    "- Return as a 1D array\n",
    "Example:\n",
    "arr = np.array([\n",
    "[5, 12, 8],\n",
    "[15, 20, 3],\n",
    "[7, 9, 25]])\n",
    "# Diagonal: [5, 20, 25], Mean: 12.33\n",
    "# Expected output: [20, 25]"
   ]
  },
  {
   "cell_type": "code",
   "execution_count": null,
   "id": "15dd7f15",
   "metadata": {},
   "outputs": [],
   "source": [
    "def conditional_diagonal_extraction(arr):\n",
    "    # Your code here\n",
    "    pass"
   ]
  }
 ],
 "metadata": {
  "kernelspec": {
   "display_name": "Python 3",
   "language": "python",
   "name": "python3"
  },
  "language_info": {
   "name": "python",
   "version": "3.13.3"
  }
 },
 "nbformat": 4,
 "nbformat_minor": 5
}
