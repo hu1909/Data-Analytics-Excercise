{
 "cells": [
  {
   "cell_type": "markdown",
   "id": "ade6f53a",
   "metadata": {},
   "source": [
    "## Question 1 \n",
    "\n",
    "Task (Python Data Types) — Course: Programming for AI and Data Science\n",
    "\n",
    "Complete the function to perform set operations efficiently.\n",
    "\n",
    "Create a function that takes two lists and:\n",
    "\n",
    "1. Converts both to sets\n",
    "2. Finds symmetric difference (elements in either set, but not both)\n",
    "3. Returns the result as a sorted list\n",
    "\n",
    "Use only Python standard library.\n",
    "\n",
    "Example: [1,2,3], [2,3,4] → [1,4]\n",
    "\n"
   ]
  },
  {
   "cell_type": "code",
   "execution_count": 28,
   "id": "689d4e59",
   "metadata": {},
   "outputs": [
    {
     "name": "stdout",
     "output_type": "stream",
     "text": [
      "[1, 4]\n"
     ]
    }
   ],
   "source": [
    "def set_operations(list1, list2):\n",
    "    # TODO: Complete this function\n",
    "    sorted_list = []\n",
    "    # 1. Convert lists to sets\n",
    "    set1 = set(list1)\n",
    "    set2 = set(list2)\n",
    "    # 2. Find symmetric difference\n",
    "    sorted_list = sorted(set1.symmetric_difference(set2))\n",
    "    # 3. Return as sorted list\n",
    "    return sorted_list\n",
    "\n",
    "\n",
    "# Test case \n",
    "list_1=[1,2,3]\n",
    "list_2=[2,3,4]\n",
    "\n",
    "new_list = set_operations(list_1, list_2)\n",
    "print(new_list)"
   ]
  },
  {
   "cell_type": "markdown",
   "id": "6881b629",
   "metadata": {},
   "source": [
    "## Question 2 \n",
    "\n",
    "Task (Python Data Types) — Course: Programming for AI and Data Science\n",
    "\n",
    "Complete the function to transform data between different types efficiently.\n",
    "\n",
    "Create a function that takes a string of comma-separated numbers and:\n",
    "\n",
    "1. Splits the string into individual numbers\n",
    "2. Converts each to integer\n",
    "3. Returns a tuple (count, sum, average)\n",
    "\n",
    "Use only Python standard library.\n",
    "\n",
    "Example: \"1,2,3,4,5\" → (5, 15, 3.0)"
   ]
  },
  {
   "cell_type": "code",
   "execution_count": 29,
   "id": "e8dbdf17",
   "metadata": {},
   "outputs": [
    {
     "name": "stdout",
     "output_type": "stream",
     "text": [
      "(5, 15, 3.0)\n"
     ]
    }
   ],
   "source": [
    "def data_transformation(data_string):\n",
    "    # TODO: Complete this function\n",
    "    # 1. Split string into numbers\n",
    "    # 2. Convert to integers\n",
    "    list_number = [int(x) for x in data_string.split(',')]\n",
    "    \n",
    "    sum_value = sum(list_number)\n",
    "    count = len(list_number)\n",
    "    average = sum_value / count \n",
    "\n",
    "    tuple = (count, sum_value, average)\n",
    "\n",
    "    \n",
    "    # 3. Return (count, sum, average) tuple\n",
    "    return tuple\n",
    "\n",
    "# Test case \n",
    "string_test = \"1,2,3,4,5\"\n",
    "\n",
    "tuple_return = data_transformation(string_test)\n",
    "print(tuple_return)"
   ]
  },
  {
   "cell_type": "markdown",
   "id": "0683af3c",
   "metadata": {},
   "source": [
    "## Question 3 \n",
    "\n",
    "Complete the function using the filter() function to process data efficiently.\n",
    "\n",
    "Create a function that takes a list of numbers and:\n",
    "\n",
    "1. Uses filter() to keep only even numbers\n",
    "2. Uses filter() to keep only numbers > 10\n",
    "3. Returns both filtered lists as a tuple\n",
    "4. Use only filter() function (no loops)\n",
    "\n",
    "Use only Python standard library.\n",
    "\n",
    "Example: [5, 12, 8, 15, 3, 20] → ([12, 8, 20], [12, 15, 20])"
   ]
  },
  {
   "cell_type": "markdown",
   "id": "c2880949",
   "metadata": {},
   "source": []
  },
  {
   "cell_type": "code",
   "execution_count": 30,
   "id": "a030e8cb",
   "metadata": {},
   "outputs": [
    {
     "name": "stdout",
     "output_type": "stream",
     "text": [
      "([12, 8, 20], [12, 15, 20])\n"
     ]
    }
   ],
   "source": [
    "def filter_numbers(numbers):\n",
    "    # TODO: Complete using filter() function\n",
    "    # 1. Filter even numbers using filter()\n",
    "    even_numbers = list(filter(lambda x: x%2 ==0, numbers))\n",
    "    large_numbers = list(filter(lambda x: x>10, numbers))\n",
    "\n",
    "    typle = (even_numbers, large_numbers)\n",
    "    # 2. Filter numbers > 10 using filter()\n",
    "    # 3. Return (even_numbers, large_numbers) tuple\n",
    "    return typle \n",
    "\n",
    "# Test case \n",
    "list_1 = [5, 12, 8, 15, 3, 20]\n",
    "filter_value = filter_numbers(list_1)\n",
    "print(filter_value)"
   ]
  },
  {
   "cell_type": "markdown",
   "id": "943137fd",
   "metadata": {},
   "source": [
    "## Question 4 \n",
    "\n",
    "Create a function that takes two lists and:\n",
    "\n",
    "1. Converts both lists to sets\n",
    "2. Finds the intersection (common elements)\n",
    "3. Finds the union (all unique elements)\n",
    "4. Returns (intersection, union) as a tuple of sorted lists\n",
    "\n",
    "Use only Python standard library.\n",
    "\n",
    "Example: [1,2,3], [2,3,4] → ([2,3], [1,2,3,4])"
   ]
  },
  {
   "cell_type": "code",
   "execution_count": 31,
   "id": "9a5d5322",
   "metadata": {},
   "outputs": [
    {
     "name": "stdout",
     "output_type": "stream",
     "text": [
      "([2, 3], [1, 2, 3, 4])\n"
     ]
    }
   ],
   "source": [
    "def set_operations(list1, list2):\n",
    "    set1 = set(list1)\n",
    "    set2 = set(list2)\n",
    "\n",
    "    interection = sorted(list(set1 & set2))\n",
    "    union = sorted(list(set1 | set2))\n",
    "\n",
    "    return (interection, union)\n",
    "\n",
    "# Test case \n",
    "list_1 = [1,2,3]\n",
    "list_2 = [2,3,4]\n",
    "\n",
    "result = set_operations(list_1, list_2)\n",
    "print(result)"
   ]
  },
  {
   "cell_type": "markdown",
   "id": "53603e3d",
   "metadata": {},
   "source": [
    "## Question 5 \n",
    "\n",
    "Complete the function to process mixed data types efficiently.\n",
    "\n",
    "Create a function that takes a list of mixed types and:\n",
    "\n",
    "1. Separates numbers and strings into different lists\n",
    "2. Counts occurrences of each type\n",
    "3. Returns a tuple (numbers_list, strings_list, type_counts)\n",
    "\n",
    "Use only Python standard library.\n",
    "\n",
    "Example: [1, 'hello', 2, 'world', 3] → ([1,2,3], ['hello','world'], {'int': 3, 'str': 2})\n",
    "\n",
    "An Edge Case: ['a', 10, 'b', 20.5, 'c'] → ([10, 20.5], ['a', 'b', 'c'], {'str': 3, 'int': 1, 'float': 1})"
   ]
  },
  {
   "cell_type": "code",
   "execution_count": 32,
   "id": "ccd64854",
   "metadata": {},
   "outputs": [
    {
     "name": "stdout",
     "output_type": "stream",
     "text": [
      "([1, 2, 3], ['hello', 'world'], {'int': 3, 'str': 2})\n"
     ]
    }
   ],
   "source": [
    "def mixed_data_processing(data):\n",
    "    str_list = []\n",
    "    int_list = []\n",
    "    occurrences = {'int': 0, 'str': 0, 'float': 0, 'complex': 0}\n",
    "    for i in data: \n",
    "        if isinstance(i, str):\n",
    "            occurrences['str'] = occurrences['str'] + 1\n",
    "            str_list.append(i)\n",
    "        elif isinstance(i, int):\n",
    "            occurrences['int'] = occurrences['int'] + 1\n",
    "            int_list.append(i)\n",
    "        elif isinstance(i, float):\n",
    "            occurrences['float'] = occurrences['float'] + 1\n",
    "            int_list.append(i)\n",
    "        elif isinstance(i, complex):\n",
    "            occurrences['complex'] = occurrences['complex'] + 1\n",
    "            int_list.append(i)\n",
    "    \n",
    "    key_value = []\n",
    "    for key, value in occurrences.items():\n",
    "        if value == 0:\n",
    "            key_value.append(key)\n",
    "            \n",
    "    for i in key_value:\n",
    "        occurrences.pop(i)\n",
    "    \n",
    "\n",
    "\n",
    "    return (int_list, str_list, dict(sorted(occurrences.items(), key=lambda item: item[1], reverse=True)))\n",
    "\n",
    "\t\n",
    "data = [1, 'hello', 2, 'world', 3]\n",
    "result = mixed_data_processing(data)\n",
    "print(result)"
   ]
  },
  {
   "cell_type": "markdown",
   "id": "df3b8f67",
   "metadata": {},
   "source": [
    "## Question 6 \n",
    "\n",
    "Create a function that takes a list of numbers and returns a new list where:\n",
    "\n",
    "1. Even numbers are squared\n",
    "2. Odd numbers are doubled\n",
    "3. Use list comprehension (one line)\n",
    "4. Return the transformed list\n",
    "\n",
    "Use only Python standard library.\n",
    "\n",
    "Example: [1, 2, 3, 4, 5] → [2, 4, 6, 16, 10]"
   ]
  },
  {
   "cell_type": "code",
   "execution_count": 33,
   "id": "f3281734",
   "metadata": {},
   "outputs": [
    {
     "name": "stdout",
     "output_type": "stream",
     "text": [
      "[2, 4, 6, 16, 10]\n"
     ]
    }
   ],
   "source": [
    "def transform_numbers(numbers):\n",
    "    new_list = list(map(lambda i: i**2 if i % 2 == 0 else i*2, numbers))\n",
    "\n",
    "    # for i in numbers: \n",
    "    #     if i % 2 == 0:\n",
    "    #         value = i+i\n",
    "    #         new_list.append(i**2)\n",
    "    #     if i % 2 != 0:\n",
    "    #         new_list.append(i*2)\n",
    "    return new_list\n",
    "\n",
    "data = [1,2,3,4,5]\n",
    "new_list = transform_numbers(data)\n",
    "print(new_list)"
   ]
  },
  {
   "cell_type": "markdown",
   "id": "f0291caa",
   "metadata": {},
   "source": [
    "## Question 7 \n",
    "\n",
    "Create a function that takes a list of dictionaries and:\n",
    "\n",
    "1. Finds all dictionaries with 'age' key\n",
    "2. Calculates average age\n",
    "3. Returns (count, average_age) tuple\n",
    "\n",
    "Use only Python standard library.\n",
    "\n",
    "Example: [{'name': 'John', 'age': 25}, {'name': 'Jane'}, {'age': 30}] → (2, 27.5)"
   ]
  },
  {
   "cell_type": "code",
   "execution_count": 34,
   "id": "bab04f2c",
   "metadata": {},
   "outputs": [
    {
     "name": "stdout",
     "output_type": "stream",
     "text": [
      "(2, 27.5)\n"
     ]
    }
   ],
   "source": [
    "def nested_data_processing(data):\n",
    "    sum_value = 0\n",
    "    value_list = []\n",
    "    for i in data:\n",
    "        if 'age' in i.keys():\n",
    "            value_list.append(i['age'])\n",
    "\n",
    "    new_tuple = (len(value_list), sum(value_list) / len(value_list))\n",
    "\n",
    "    return new_tuple\n",
    "\n",
    "test_list =  [{'name': 'John', 'age': 25}, {'name': 'Jane'}, {'age': 30}]\n",
    "\n",
    "new_set = nested_data_processing(test_list)\n",
    "\n",
    "print(new_set)\n"
   ]
  },
  {
   "cell_type": "markdown",
   "id": "e3f50a14",
   "metadata": {},
   "source": [
    "## Question 8\n",
    "\n",
    "Create a function that takes a list of numbers and:\n",
    "\n",
    "1. Uses reduce() to find the maximum value\n",
    "2. Uses reduce() to calculate the sum of squares\n",
    "3. Returns both results as a tuple\n",
    "4. Use only reduce() function (no loops)\n",
    "\n",
    "Use only Python standard library.\n",
    "\n",
    "Example: [1, 2, 3, 4] → (4, 30)"
   ]
  },
  {
   "cell_type": "code",
   "execution_count": 35,
   "id": "d25d23da",
   "metadata": {},
   "outputs": [
    {
     "name": "stdout",
     "output_type": "stream",
     "text": [
      "(15, 350)\n"
     ]
    }
   ],
   "source": [
    "from functools import reduce\n",
    "\n",
    "def process_with_reduce(numbers):\n",
    "    # TODO: Complete using reduce() function\n",
    "    # 1. Find maximum using reduce()\n",
    "    max_value = reduce(lambda a,b: a if a>b else b, numbers)\n",
    "    \n",
    "    # 2. Calculate sum of squares using reduce()\n",
    "    sum_squares = reduce(lambda a,b: a + b**2, numbers, 0)\n",
    "    # 3. Return (max, sum_squares) tuple\n",
    "    return (max_value, sum_squares)\n",
    "\n",
    "test_list = [5,10,15]\n",
    "new_tuple = process_with_reduce(test_list)\n",
    "print(new_tuple)"
   ]
  },
  {
   "cell_type": "markdown",
   "id": "66b5d147",
   "metadata": {},
   "source": [
    "## Question 9\n",
    "\n",
    "1. Uses lambda with map() to double each number\n",
    "2. Uses lambda with filter() to keep only positive numbers\n",
    "3. Uses lambda with sorted() to sort by absolute value\n",
    "4. Returns all three results as a tuple\n",
    "\n",
    "Use only Python standard library.\n",
    "\n",
    "Example: [-3, 1, -2, 4] → ([2, -6, -4, 8], [1, 4], [-1, -2, -3, 4])"
   ]
  },
  {
   "cell_type": "code",
   "execution_count": 36,
   "id": "ff6d51aa",
   "metadata": {},
   "outputs": [
    {
     "name": "stdout",
     "output_type": "stream",
     "text": [
      "([-6, 2, -4, 8], [1, 4], [1, -2, -3, 4])\n"
     ]
    }
   ],
   "source": [
    "def lambda_operations(numbers):\n",
    "    # TODO: Complete using lambda functions\n",
    "    # 1. Double numbers using lambda + map()\n",
    "    double_number = list(map(lambda i: i*2, numbers))\n",
    "    # 2. Filter positive numbers using lambda + filter()\n",
    "    positive_number = list(filter(lambda i: i>0, numbers))\n",
    "    # 3. Sort by absolute value using lambda + sorted()\n",
    "    sorted_list = list(sorted(numbers, key = lambda i: abs(i)))\n",
    "\n",
    "    # 4. Return (doubled, positive, sorted) tuple\n",
    "    new_tuple = (double_number, positive_number, sorted_list)\n",
    "    return new_tuple \n",
    "\n",
    "\n",
    "test_list =  [-3, 1, -2, 4]\n",
    "new_tuple = lambda_operations(test_list)\n",
    "print(new_tuple)"
   ]
  },
  {
   "cell_type": "markdown",
   "id": "6d00ed61",
   "metadata": {},
   "source": [
    "## Question 10 \n",
    "\n",
    "Complete the function to create an iterator and generator for data processing.\n",
    "\n",
    "Create a function that:\n",
    "\n",
    "1. Creates a generator that yields squares of numbers from 1 to n\n",
    "2. Creates an iterator that counts down from n to 1\n",
    "3. Returns both as a tuple (generator, iterator)\n",
    "4. Use generator expression and iter() function\n",
    "\n",
    "Use only Python standard library.\n",
    "\n",
    "Example: n=3 → generator yields [1, 4, 9], iterator yields [3, 2, 1]"
   ]
  },
  {
   "cell_type": "code",
   "execution_count": 37,
   "id": "133148de",
   "metadata": {},
   "outputs": [
    {
     "name": "stdout",
     "output_type": "stream",
     "text": [
      "([1, 4, 9], [3, 2, 1])\n"
     ]
    }
   ],
   "source": [
    "def create_iterators(n):\n",
    "    # TODO: Complete this function\n",
    "    # 1. Create generator for squares (1 to n)\n",
    "    generator = list(map(lambda i: i**2, list(range(1, n+ 1))))\n",
    "    # 2. Create iterator for countdown (n to 1)\n",
    "    iterator = sorted(list(range(1, n+1)), reverse=True)\n",
    "    # 3. Return (generator, iterator) tuple\n",
    "    return (generator,iterator)\n",
    "\n",
    "\n",
    "new_tuple = create_iterators(3)\n",
    "print(new_tuple)"
   ]
  },
  {
   "cell_type": "markdown",
   "id": "bbc46c1e",
   "metadata": {},
   "source": [
    "## Question 11\n",
    "\n",
    "Complete the function using dictionary comprehension to create data structures efficiently.\n",
    "\n",
    "Create a function that takes a list of words and:\n",
    "\n",
    "1. Uses dict comprehension to create word:length pairs\n",
    "2. Uses dict comprehension to filter words longer than 3 characters\n",
    "3. Returns both dictionaries as a tuple\n",
    "4. Use only dictionary comprehension (no loops)\n",
    "\n",
    "Use only Python standard library.\n",
    "\n",
    "Example: ['cat', 'dog', 'elephant'] → ({'cat':3, 'dog':3, 'elephant':9}, {'elephant':9})"
   ]
  },
  {
   "cell_type": "code",
   "execution_count": 38,
   "id": "26598e0f",
   "metadata": {},
   "outputs": [
    {
     "name": "stdout",
     "output_type": "stream",
     "text": [
      "({'cat': 3, 'dog': 3, 'elephant': 8}, {'elephant': 8})\n"
     ]
    }
   ],
   "source": [
    "def create_word_dicts(words):\n",
    "    # TODO: Complete using dictionary comprehension\n",
    "    # 1. Create word:length dict using dict comprehension\n",
    "    new_dict = {i: len(i) for i in words}\n",
    "    # 2. Filter long words using dict comprehension\n",
    "    dict_longer = dict(filter(lambda item: item[1] > 3, new_dict.items()))\n",
    "    # 3. Return (all_words, long_words) tuple\n",
    "    return (new_dict, dict_longer)\n",
    "\n",
    "\n",
    "test_list = ['cat', 'dog', 'elephant']\n",
    "new_list = create_word_dicts(test_list)\n",
    "print(new_list)"
   ]
  },
  {
   "cell_type": "markdown",
   "id": "dbe80292",
   "metadata": {},
   "source": [
    "## Question 12\n",
    "\n",
    "Create a function that takes a list of strings and:\n",
    "\n",
    "1. Uses map() to convert each string to uppercase\n",
    "2. Uses map() to add '#' prefix to each string\n",
    "3. Returns the result as a list\n",
    "4. Use only map() function (no loops)\n",
    "\n",
    "Use only Python standard library.\n",
    "\n",
    "Example: ['hello', 'world'] → ['#HELLO', '#WORLD']"
   ]
  },
  {
   "cell_type": "code",
   "execution_count": 39,
   "id": "322c7956",
   "metadata": {},
   "outputs": [
    {
     "name": "stdout",
     "output_type": "stream",
     "text": [
      "['#HELLO', '#WORLD']\n"
     ]
    }
   ],
   "source": [
    "def transform_with_map(strings):\n",
    "    # TODO: Complete using map() function\n",
    "    # 1. Convert to uppercase using map()\n",
    "    list_uppercase = map(lambda i: i.upper(), strings)\n",
    "    # 2. Add '#' prefix using map()\n",
    "    list_hash = list(map(lambda i: '#' + i, list_uppercase))\n",
    "    # 3. Return as list\n",
    "    return list_hash\n",
    "\n",
    "test_list = ['hello', 'world']\n",
    "print(transform_with_map(test_list))\n"
   ]
  },
  {
   "cell_type": "markdown",
   "id": "14cbc309",
   "metadata": {},
   "source": [
    "## Question 13\n",
    "\n",
    "Create a function that takes a string and:\n",
    "\n",
    "1. Counts vowels (a,e,i,o,u)\n",
    "2. Counts consonants (non-vowels)\n",
    "3. Returns a tuple (vowel_count, consonant_count)\n",
    "\n",
    "Use only Python standard library.\n",
    "\n",
    "Example: \"hello world\" → (3, 7)"
   ]
  },
  {
   "cell_type": "code",
   "execution_count": 40,
   "id": "26b3ca5e",
   "metadata": {},
   "outputs": [
    {
     "name": "stdout",
     "output_type": "stream",
     "text": [
      "(3, 7)\n"
     ]
    }
   ],
   "source": [
    "def string_processing(text):\n",
    "    # TODO: Complete this function\n",
    "    vowels_string = \"aeiou\"\n",
    "    # 1. Count vowels (a,e,i,o,u)\n",
    "    vowel_count = sum(1 for char in text.lower() if char in vowels_string)\n",
    "    # 2. Count consonants (non-vowels)\n",
    "    consonant_count = len(text.replace(' ', '')) - vowel_count\n",
    "    # 3. Return (vowel_count, consonant_count) tuple\n",
    "    return (vowel_count, consonant_count)\n",
    "\n",
    "test_string = \"hello world\"\n",
    "print(string_processing(test_string))"
   ]
  },
  {
   "cell_type": "markdown",
   "id": "57d0db76",
   "metadata": {},
   "source": [
    "## Question 14\n",
    "\n",
    "Create a function that takes a list of numbers and:\n",
    "\n",
    "1. Rounds each number to 2 decimal places\n",
    "2. Formats positive numbers with '+' prefix\n",
    "3. Formats negative numbers with '-' prefix (already there)\n",
    "4. Returns a list of formatted strings\n",
    "\n",
    "Use only Python standard library.\n",
    "\n",
    "Example: [3.14159, -2.718, 1.0] → ['+3.14', '-2.72', '+1.00']"
   ]
  },
  {
   "cell_type": "code",
   "execution_count": 41,
   "id": "fd9c4b50",
   "metadata": {},
   "outputs": [
    {
     "name": "stdout",
     "output_type": "stream",
     "text": [
      "['+3.14', '-2.72', '+1.00']\n"
     ]
    }
   ],
   "source": [
    "def format_numbers(numbers):\n",
    "    # TODO: Complete this function\n",
    "    # 1. Round each number to 2 decimal places\n",
    "    round_number = list(map(lambda i: round(i,2), numbers))\n",
    "    # 2. Add '+' prefix for positive numbers\n",
    "    format_number = list(map(lambda i: '+' + f\"{i:.2f}\" if i>0 else f\"{i:.2f}\", round_number))\n",
    "    # 3. Keep '-' prefix for negative numbers\n",
    "    # 4. Return list of formatted strings\n",
    "    return format_number\n",
    "\n",
    "test_list = [3.14159, -2.718, 1.0]\n",
    "print(format_numbers(test_list))"
   ]
  },
  {
   "cell_type": "markdown",
   "id": "90bbbf0b",
   "metadata": {},
   "source": [
    "## Question 15\n",
    "\n",
    "Create a function that takes a list of numbers and:\n",
    "\n",
    "1. Creates a list of tuples (number, square, cube)\n",
    "2. Filters out even numbers\n",
    "3. Returns the filtered list of tuples\n",
    "\n",
    "Use only Python standard library.\n",
    "\n",
    "Example: [1, 2, 3, 4] → [(1, 1, 1), (3, 9, 27)]"
   ]
  },
  {
   "cell_type": "code",
   "execution_count": 42,
   "id": "7545aeb9",
   "metadata": {},
   "outputs": [
    {
     "name": "stdout",
     "output_type": "stream",
     "text": [
      "[(1, 1, 1), (3, 9, 27)]\n"
     ]
    }
   ],
   "source": [
    "def advanced_comprehension(numbers):\n",
    "    # TODO: Complete using list comprehension\n",
    "    even_number = list(filter(lambda i: i%2!=0, numbers))\n",
    "    # 1. Create (number, square, cube) tuples\n",
    "    new_tuple = list(map(lambda i: (i, i**2, i**3), even_number))\n",
    "    # 2. Filter out even numbers\n",
    "    # 3. Return filtered list\n",
    "    return new_tuple\n",
    "\n",
    "test_string = [1,2,3,4]\n",
    "print(advanced_comprehension(test_string))"
   ]
  },
  {
   "cell_type": "markdown",
   "id": "71bb8415",
   "metadata": {},
   "source": [
    "## Question 16\n",
    "\n",
    "Create a function that takes a list and:\n",
    "\n",
    "1. Removes all duplicates while preserving order\n",
    "2. Reverses the list\n",
    "3. Returns both results as a tuple (unique_list, reversed_list)\n",
    "\n",
    "Use only Python standard library.\n",
    "\n",
    "Example: [1, 2, 2, 3, 1] → ([1, 2, 3], [1, 3, 2, 2, 1])"
   ]
  },
  {
   "cell_type": "code",
   "execution_count": 43,
   "id": "f8e2c783",
   "metadata": {},
   "outputs": [
    {
     "name": "stdout",
     "output_type": "stream",
     "text": [
      "([1, 2, 3], [1, 3, 2, 2, 1])\n"
     ]
    }
   ],
   "source": [
    "def list_operations(data):\n",
    "    # TODO: Complete this function\n",
    "    # 1. Remove duplicates while preserving order\n",
    "    remove_duplicate = list(dict.fromkeys(data))\n",
    "    # 2. Reverse the list\n",
    "    reverse_list = list(reversed(data))\n",
    "    # 3. Return (unique_list, reversed_list) tuple\n",
    "    return (remove_duplicate, reverse_list)\n",
    "\n",
    "test_list = [1,2,2,3,1]\n",
    "print(list_operations(test_list))"
   ]
  },
  {
   "cell_type": "markdown",
   "id": "01d6261a",
   "metadata": {},
   "source": [
    "## Question 17\n",
    "\n",
    "reate a function that takes a list and:\n",
    "\n",
    "1. Checks if all elements are of the same type\n",
    "2. Returns the common type name if uniform\n",
    "3. Returns 'mixed' if types are different\n",
    "\n",
    "Use only Python standard library.\n",
    "\n",
    "Example: [1, 2, 3] → 'int', [1, 'hello', 3] → 'mixed'"
   ]
  },
  {
   "cell_type": "code",
   "execution_count": null,
   "id": "cf0d7e62",
   "metadata": {},
   "outputs": [
    {
     "name": "stdout",
     "output_type": "stream",
     "text": [
      "int\n",
      "mixed\n"
     ]
    }
   ],
   "source": [
    "def data_validation(data):\n",
    "    # TODO: Complete this function\n",
    "    # 1. Check if all elements are same type\n",
    "    new_dict = {}\n",
    "    for i in data:\n",
    "      if i not in new_dict.keys():\n",
    "        new_dict[type(i).__name__] = 1\n",
    "      else:\n",
    "        new_dict[type(i).__name__] += 1\n",
    "    # 2. Return type name if uniform\n",
    "\n",
    "    check_value = list(new_dict.keys())[0] if len(new_dict) == 1 else 'mixed'\n",
    "    # 3. Return 'mixed' if different types\n",
    "    return check_value \n",
    "\n",
    "test_list_1 = [1,2,3]\n",
    "test_list_2 = [1, 'hello', 3]\n",
    "print(data_validation(test_list_1))\n",
    "print(data_validation(test_list_2))"
   ]
  },
  {
   "cell_type": "markdown",
   "id": "5ca10bbf",
   "metadata": {},
   "source": [
    "## Question 18\n",
    "\n",
    "Given a list of words, create a function that:\n",
    "\n",
    "1. Joins all words with a space separator\n",
    "2. Converts the result to uppercase\n",
    "3. Replaces all vowels (a,e,i,o,u) with 'X'\n",
    "4. Returns the final string\n",
    "\n",
    "Use only Python standard library.\n",
    "\n",
    "Example: ['hello', 'world'] → 'HXLLX WXRLD'"
   ]
  },
  {
   "cell_type": "code",
   "execution_count": null,
   "id": "d0ebadc8",
   "metadata": {},
   "outputs": [
    {
     "name": "stdout",
     "output_type": "stream",
     "text": [
      "HXLLX WXRLD\n"
     ]
    }
   ],
   "source": [
    "def process_strings(words):\n",
    "    # TODO: Complete this function\n",
    "    vowels = ['a','e','i','o','u']\n",
    "    # 1. Join words with space\n",
    "    # 2. Convert to uppercase  \n",
    "    join_word = ' '.join(words).upper()\n",
    "    # 3. Replace vowels with 'X'\n",
    "    for i in vowels:\n",
    "        join_word = join_word.replace(i.upper(), 'X')\n",
    "    # 4. Return result\n",
    "    return join_word\n",
    "\n",
    "test_value = ['hello', 'world']\n",
    "print(process_strings(test_value))"
   ]
  },
  {
   "cell_type": "markdown",
   "id": "0ea63e8c",
   "metadata": {},
   "source": [
    "## Question 19 \n",
    "\n",
    "Create a function that takes a tuple of numbers and:\n",
    "\n",
    "1. Finds the minimum and maximum values\n",
    "2. Calculates the sum of all elements\n",
    "3. Returns a tuple (min_val, max_val, sum_val)\n",
    "\n",
    "Use only Python standard library.\n",
    "\n",
    "Example: (3, 1, 4, 1, 5) → (1, 5, 14)"
   ]
  },
  {
   "cell_type": "code",
   "execution_count": 67,
   "id": "3225fe41",
   "metadata": {},
   "outputs": [
    {
     "name": "stdout",
     "output_type": "stream",
     "text": [
      "(1, 5, 14)\n",
      "(1, 5, 14)\n"
     ]
    }
   ],
   "source": [
    "def tuple_operations_v1(numbers):\n",
    "    # TODO: Complete this function\n",
    "    convert_list = list(numbers)\n",
    "    # 1. Find min and max values\n",
    "    max_value = reduce(lambda a, b: a if a > b else b, numbers)\n",
    "    min_value = reduce(lambda a, b: a if a < b else b, numbers)\n",
    "    # 2. Calculate sum of all elements\n",
    "    sum_value = sum(convert_list)\n",
    "    # 3. Return (min_val, max_val, sum_val) tuple\n",
    "    return (min_value, max_value, sum_value)\n",
    "\n",
    "def tuple_operations(numbers):\n",
    "    # TODO: Complete this function\n",
    "    converse_list = list(numbers)\n",
    "    min_val = min(converse_list)\n",
    "    max_val = max(converse_list)\n",
    "    sum_val = sum(converse_list)\n",
    "    # 1. Find min and max values\n",
    "    # 2. Calculate sum of all elements\n",
    "    # 3. Return (min_val, max_val, sum_val) tuple\n",
    "    return (min_val, max_val, sum_val)\n",
    "\n",
    "test_tuple = (3,1,4,1,5) \n",
    "print(tuple_operations_v1(test_tuple))\n",
    "print(tuple_operations(test_tuple))"
   ]
  },
  {
   "cell_type": "markdown",
   "id": "57877439",
   "metadata": {},
   "source": [
    "## Question 20 \n",
    "\n",
    "Create a function that takes a dictionary and:\n",
    "\n",
    "1. Swaps keys and values\n",
    "2. Filters out values that are not strings\n",
    "3. Returns the filtered swapped dictionary\n",
    "\n",
    "Use only Python standard library.\n",
    "\n",
    "Example: {'a': 1, 'b': 'hello', 'c': 3} → {'hello': 'b'}"
   ]
  },
  {
   "cell_type": "code",
   "execution_count": null,
   "id": "7192d66d",
   "metadata": {},
   "outputs": [
    {
     "name": "stdout",
     "output_type": "stream",
     "text": [
      "{'hello': 'b'}\n"
     ]
    }
   ],
   "source": [
    "def dict_operations(data):\n",
    "    # TODO: Complete this function\n",
    "    # 1. Swap keys and values\n",
    "    filter_dict = {key: value for key,value in data.items() if type(value).__name__ == 'str'}\n",
    "    swap_dict = {value: key for key,value in filter_dict.items()}\n",
    "\n",
    "    # 2. Filter out non-string values\n",
    "    # 3. Return filtered swapped dictionary\n",
    "    return swap_dict\n",
    "\n",
    "test_dict = {'a': 1, 'b': 'hello', 'c': 3}\n",
    "print(dict_operations(test_dict))"
   ]
  },
  {
   "cell_type": "markdown",
   "id": "3009ca42",
   "metadata": {},
   "source": []
  }
 ],
 "metadata": {
  "kernelspec": {
   "display_name": "Python 3",
   "language": "python",
   "name": "python3"
  },
  "language_info": {
   "codemirror_mode": {
    "name": "ipython",
    "version": 3
   },
   "file_extension": ".py",
   "mimetype": "text/x-python",
   "name": "python",
   "nbconvert_exporter": "python",
   "pygments_lexer": "ipython3",
   "version": "3.13.3"
  }
 },
 "nbformat": 4,
 "nbformat_minor": 5
}
