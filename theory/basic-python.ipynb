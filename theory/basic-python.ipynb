{
 "cells": [
  {
   "cell_type": "markdown",
   "id": "3035c9e4",
   "metadata": {},
   "source": [
    "## Basic Programming with Python "
   ]
  },
  {
   "cell_type": "markdown",
   "id": "ad5b6d35",
   "metadata": {},
   "source": [
    "### List\n",
    "\n",
    "List is an **ordered** and **mutable** collection of items. List can contain items of different data types, and they are defined by enclosing the items in square brackets `[]`\n",
    "\n",
    "For example,"
   ]
  },
  {
   "cell_type": "code",
   "execution_count": 95,
   "id": "4f19e071",
   "metadata": {},
   "outputs": [
    {
     "name": "stdout",
     "output_type": "stream",
     "text": [
      "[]\n",
      "['Banana', 'Strawberry', 'Apple']\n",
      "[1, 2, 3, 4, 5]\n"
     ]
    }
   ],
   "source": [
    "empty_list = []\n",
    "string_list = ['Banana', 'Strawberry', 'Apple']\n",
    "numbers_list = [1,2,3,4,5]\n",
    "\n",
    "print(empty_list)\n",
    "print(string_list)\n",
    "print(numbers_list)"
   ]
  },
  {
   "cell_type": "markdown",
   "id": "dee61d97",
   "metadata": {},
   "source": [
    "There are some actions that we can do with a list: "
   ]
  },
  {
   "cell_type": "markdown",
   "id": "94cf7b76",
   "metadata": {},
   "source": [
    "1. *Append value into a list*"
   ]
  },
  {
   "cell_type": "code",
   "execution_count": 96,
   "id": "64c934b1",
   "metadata": {},
   "outputs": [
    {
     "name": "stdout",
     "output_type": "stream",
     "text": [
      "[1, 2, 'Banana', 'Apple']\n"
     ]
    }
   ],
   "source": [
    "empty_list.append(1)\n",
    "empty_list.append(2)\n",
    "empty_list.append('Banana')\n",
    "empty_list.append('Apple')\n",
    "\n",
    "print(empty_list)"
   ]
  },
  {
   "cell_type": "markdown",
   "id": "9f726dc0",
   "metadata": {},
   "source": [
    "2. *Modify a list*"
   ]
  },
  {
   "cell_type": "code",
   "execution_count": 97,
   "id": "824e868f",
   "metadata": {},
   "outputs": [
    {
     "name": "stdout",
     "output_type": "stream",
     "text": [
      "['Banana', 'Carrot', 'Apple']\n"
     ]
    }
   ],
   "source": [
    "string_list[1] = 'Carrot'\n",
    "\n",
    "print(string_list)"
   ]
  },
  {
   "cell_type": "markdown",
   "id": "559af0ff",
   "metadata": {},
   "source": [
    "3. *Return number of that value in a list*"
   ]
  },
  {
   "cell_type": "code",
   "execution_count": 98,
   "id": "b89bd3f8",
   "metadata": {},
   "outputs": [
    {
     "name": "stdout",
     "output_type": "stream",
     "text": [
      "Number of element in Banana in string list:  1\n"
     ]
    }
   ],
   "source": [
    "num_elements = string_list.count('Banana')\n",
    "\n",
    "print(\"Number of element in Banana in string list: \", num_elements)"
   ]
  },
  {
   "cell_type": "markdown",
   "id": "4fbbdc04",
   "metadata": {},
   "source": [
    "4. *Sort a list*"
   ]
  },
  {
   "cell_type": "code",
   "execution_count": 99,
   "id": "06113007",
   "metadata": {},
   "outputs": [
    {
     "name": "stdout",
     "output_type": "stream",
     "text": [
      "['Apple', 'Banana', 'Carrot']\n"
     ]
    }
   ],
   "source": [
    "sorted_list = sorted(string_list)\n",
    "\n",
    "print(sorted_list)"
   ]
  },
  {
   "cell_type": "markdown",
   "id": "dcd016c0",
   "metadata": {},
   "source": [
    "5. *Slicing a list*"
   ]
  },
  {
   "cell_type": "code",
   "execution_count": 100,
   "id": "783a68bf",
   "metadata": {},
   "outputs": [
    {
     "name": "stdout",
     "output_type": "stream",
     "text": [
      "['Carrot']\n"
     ]
    }
   ],
   "source": [
    "print(string_list[1:2])"
   ]
  },
  {
   "cell_type": "markdown",
   "id": "48422e1c",
   "metadata": {},
   "source": [
    "6. *Reverse a list*"
   ]
  },
  {
   "cell_type": "code",
   "execution_count": 101,
   "id": "205dbc04",
   "metadata": {},
   "outputs": [
    {
     "name": "stdout",
     "output_type": "stream",
     "text": [
      "[5, 4, 3, 2, 1]\n"
     ]
    }
   ],
   "source": [
    "reverse_list = sorted(numbers_list, reverse=True)\n",
    "\n",
    "print(reverse_list)"
   ]
  },
  {
   "cell_type": "markdown",
   "id": "057d5fd3",
   "metadata": {},
   "source": [
    "## Tuple \n",
    "\n",
    "A tuple is an **ordered** and **immutable (unchangeable)** collection of items. Tuples are defined by enclosing items in parentheses `()`\n",
    "\n",
    "For example, "
   ]
  },
  {
   "cell_type": "code",
   "execution_count": 102,
   "id": "19033a81",
   "metadata": {},
   "outputs": [
    {
     "name": "stdout",
     "output_type": "stream",
     "text": [
      "()\n",
      "('Banana', 'Apple', 'Blueberry')\n",
      "(1, 2, 3, 4, 5, 6)\n"
     ]
    }
   ],
   "source": [
    "empty_tuple = ()\n",
    "\n",
    "string_tuple = ('Banana', 'Apple', 'Blueberry')\n",
    "number_tuple = (1,2,3,4,5,6)\n",
    "\n",
    "print(empty_tuple)\n",
    "print(string_tuple)\n",
    "print(number_tuple)"
   ]
  },
  {
   "cell_type": "markdown",
   "id": "5ab366da",
   "metadata": {},
   "source": [
    "As we know that the Tuple is ordered so we can use index to view elements but we can not modify anything within the value because tuple is immutable. \n",
    "\n",
    "So in that case, we have fewer method to use with tuple"
   ]
  },
  {
   "cell_type": "markdown",
   "id": "a8eb64fa",
   "metadata": {},
   "source": [
    "1. *Accessing a tuple*"
   ]
  },
  {
   "cell_type": "code",
   "execution_count": 103,
   "id": "fa901e60",
   "metadata": {},
   "outputs": [
    {
     "name": "stdout",
     "output_type": "stream",
     "text": [
      "Banana\n",
      "('Banana',)\n"
     ]
    }
   ],
   "source": [
    "firts_element = string_tuple[0]\n",
    "print(firts_element)\n",
    "\n",
    "slice_tuple = string_tuple[0:1]\n",
    "print(slice_tuple)"
   ]
  },
  {
   "cell_type": "markdown",
   "id": "a59d6795",
   "metadata": {},
   "source": [
    "2. *Unpack a tuple*"
   ]
  },
  {
   "cell_type": "code",
   "execution_count": 104,
   "id": "c4894a74",
   "metadata": {},
   "outputs": [
    {
     "name": "stdout",
     "output_type": "stream",
     "text": [
      "Banana\n",
      "Apple\n",
      "Blueberry\n"
     ]
    }
   ],
   "source": [
    "x, y, z = string_tuple\n",
    "print(x)\n",
    "print(y)\n",
    "print(z)"
   ]
  },
  {
   "cell_type": "markdown",
   "id": "4f97f589",
   "metadata": {},
   "source": [
    "3. *Count number of appearance of values*"
   ]
  },
  {
   "cell_type": "code",
   "execution_count": 105,
   "id": "c2231911",
   "metadata": {},
   "outputs": [
    {
     "name": "stdout",
     "output_type": "stream",
     "text": [
      "Number of appearance of Apple:  1\n"
     ]
    }
   ],
   "source": [
    "number_of_apple = string_tuple.count('Apple')\n",
    "print(\"Number of appearance of Apple: \", number_of_apple)"
   ]
  },
  {
   "cell_type": "markdown",
   "id": "08715998",
   "metadata": {},
   "source": [
    "4. *Return index of a specific value*"
   ]
  },
  {
   "cell_type": "code",
   "execution_count": 106,
   "id": "e1aa3b13",
   "metadata": {},
   "outputs": [
    {
     "name": "stdout",
     "output_type": "stream",
     "text": [
      "The index of Apple value: 1\n"
     ]
    }
   ],
   "source": [
    "index_of_apple = string_tuple.index('Apple')\n",
    "print(f\"The index of Apple value: {index_of_apple}\")"
   ]
  },
  {
   "cell_type": "markdown",
   "id": "a5cce235",
   "metadata": {},
   "source": [
    "## Set (Unordered && Mutable)\n",
    "\n",
    "A set is an **unordered** and **mutable** collection of unique items where the order doesn’t matter and we **can’t have duplicates**\n",
    "\n",
    "But when **a set is created**, the element inside is **unchangable** where we can only add or remove elements\n",
    "\n",
    "For example, "
   ]
  },
  {
   "cell_type": "code",
   "execution_count": 107,
   "id": "f63f85a7",
   "metadata": {},
   "outputs": [
    {
     "name": "stdout",
     "output_type": "stream",
     "text": [
      "{1, 2, 3, 4, 5}\n"
     ]
    }
   ],
   "source": [
    "empty_set = {}\n",
    "fruits = {\"apple\", \"banana\", \"cherry\"}\n",
    "\n",
    "# convert to a set \n",
    "numbers_set = set(numbers_list)\n",
    "print(numbers_set)\n"
   ]
  },
  {
   "cell_type": "markdown",
   "id": "a3d1637a",
   "metadata": {},
   "source": [
    "As it is mutable so we can have some methods to modify a set\n",
    "1. *Add a single item*\n",
    "\n",
    "\n"
   ]
  },
  {
   "cell_type": "code",
   "execution_count": 108,
   "id": "f5d561c0",
   "metadata": {},
   "outputs": [
    {
     "name": "stdout",
     "output_type": "stream",
     "text": [
      "{'orange', 'banana', 'apple', 'cherry'}\n"
     ]
    }
   ],
   "source": [
    "fruits.add(\"orange\")\n",
    "\n",
    "print(fruits)"
   ]
  },
  {
   "cell_type": "markdown",
   "id": "42e63ae7",
   "metadata": {},
   "source": [
    "2. *Adds multiple items from an iterable*"
   ]
  },
  {
   "cell_type": "code",
   "execution_count": 109,
   "id": "0a4664ca",
   "metadata": {},
   "outputs": [
    {
     "name": "stdout",
     "output_type": "stream",
     "text": [
      "{'orange', 'apple', 'banana', 'cherry', 'strawberry'}\n"
     ]
    }
   ],
   "source": [
    "fruits.update([\"cherry\", \"strawberry\"])\n",
    "\n",
    "print(fruits)"
   ]
  },
  {
   "cell_type": "markdown",
   "id": "5add4244",
   "metadata": {},
   "source": [
    "3. *Remove an item. Raises a KeyError if the item is not found*"
   ]
  },
  {
   "cell_type": "code",
   "execution_count": 110,
   "id": "ca6409a7",
   "metadata": {},
   "outputs": [
    {
     "name": "stdout",
     "output_type": "stream",
     "text": [
      "The value does not exist, Please double check\n",
      "{'orange', 'apple', 'banana', 'strawberry'}\n"
     ]
    }
   ],
   "source": [
    "try:\n",
    "    fruits.remove(\"potato\")\n",
    "except KeyError:\n",
    "    print(\"The value does not exist, Please double check\")\n",
    "\n",
    "\n",
    "fruits.remove(\"cherry\")\n",
    "\n",
    "print(fruits)"
   ]
  },
  {
   "cell_type": "markdown",
   "id": "a1e2286c",
   "metadata": {},
   "source": [
    "4. *Remove an item. Does nothing if the item is not found*"
   ]
  },
  {
   "cell_type": "code",
   "execution_count": 111,
   "id": "1fe96878",
   "metadata": {},
   "outputs": [
    {
     "name": "stdout",
     "output_type": "stream",
     "text": [
      "{'orange', 'apple', 'strawberry'}\n"
     ]
    }
   ],
   "source": [
    "fruits.discard(\"banana\") # Do nothing even if banana does not exist in the set\n",
    "fruits.discard(\"cherry\")\n",
    "print(fruits)"
   ]
  },
  {
   "cell_type": "markdown",
   "id": "3cfd36b4",
   "metadata": {},
   "source": [
    "#### Mathematical Set Operations \n",
    "These methods are really helpful when we have to work with 2 set and we got a mission that need to modify the elements inside 2 set. We have several options,\n",
    "1. `union()` where we join all the items from both sets \n",
    "2. `intersection()` return the common items of both sets \n",
    "3. `difference()` keeps the items from the first set that are not in the other sets\n",
    "4. `symmetric difference()` keeps all items EXCEPT the duplicates "
   ]
  },
  {
   "cell_type": "code",
   "execution_count": 112,
   "id": "5c25c254",
   "metadata": {},
   "outputs": [
    {
     "name": "stdout",
     "output_type": "stream",
     "text": [
      "{1, 2, 3, 4, 5, 10, 'apple', 'banana', 'blueberry'}\n",
      "{1, 2, 3}\n",
      "{10, 4, 5}\n",
      "{4, 5, 10, 'apple', 'banana', 'blueberry'}\n"
     ]
    }
   ],
   "source": [
    "set_1 = {1,2,3,4,5,10}\n",
    "set_2 = {'apple', 'banana', 1, 2,3, 'blueberry'}\n",
    "\n",
    "union_set = set_1.union(set_2) # or set_1 | set_2 \n",
    "intersection_set = set_1.intersection(set_2) # or set_1 & set_2 \n",
    "difference_set = set_1.difference(set_2) # or set_1 - set_2 \n",
    "symmetric_difference_set = set_1.symmetric_difference(set_2) # or set_1 ^ set_2 \n",
    "\n",
    "print(union_set)\n",
    "print(intersection_set)\n",
    "print(difference_set)\n",
    "print(symmetric_difference_set)\n",
    "\n"
   ]
  },
  {
   "cell_type": "markdown",
   "id": "5fd1d360",
   "metadata": {},
   "source": [
    "## Dictionary \n",
    "\n",
    "\n",
    "A dictionary is a mutable and ordered collection that stores data in key-value pairs\n",
    "\n",
    "The key properties: \n",
    "   - **Unique keys**: Keys must be unique within a dictionary. If we assign a value to an existing key, it will overwrite the old value \n",
    "   - **Mutable**: We can *add*, *change*, or *remove key-value pairs* after the dictionary is created \n",
    "   - **Ordered**: The dictionaries remember the order in which items were inserted\n",
    "\n",
    "An example of a dictionary"
   ]
  },
  {
   "cell_type": "code",
   "execution_count": 113,
   "id": "91b450a0",
   "metadata": {},
   "outputs": [
    {
     "name": "stdout",
     "output_type": "stream",
     "text": [
      "{'Name': 'Hung', 'age': '24', 'study_level': 'master degree'}\n",
      "{}\n"
     ]
    }
   ],
   "source": [
    "user_infor = {\"Name\": \"Hung\", \"age\": \"24\", \"study_level\": \"master degree\"}\n",
    "\n",
    "empty_dict = {}\n",
    "\n",
    "print(user_infor)\n",
    "print(empty_dict)"
   ]
  },
  {
   "cell_type": "markdown",
   "id": "95cd4276",
   "metadata": {},
   "source": [
    "Same with other components such as list, tuple or set, the dictionary also has several methods to work with \n",
    "\n",
    "1. *Accessing Values*"
   ]
  },
  {
   "cell_type": "code",
   "execution_count": 114,
   "id": "808c97c4",
   "metadata": {},
   "outputs": [
    {
     "name": "stdout",
     "output_type": "stream",
     "text": [
      "Hung\n",
      "24\n",
      "Another way to get age number: 24 \n"
     ]
    }
   ],
   "source": [
    "print(user_infor[\"Name\"])\n",
    "print(user_infor[\"age\"])\n",
    "\n",
    "# or \n",
    "\n",
    "print(f\"Another way to get age number: {user_infor.get(\"age\")} \")"
   ]
  },
  {
   "cell_type": "markdown",
   "id": "89a57c13",
   "metadata": {},
   "source": [
    "2. *Add or Modify Items*"
   ]
  },
  {
   "cell_type": "code",
   "execution_count": 115,
   "id": "4f592266",
   "metadata": {},
   "outputs": [
    {
     "name": "stdout",
     "output_type": "stream",
     "text": [
      "My age after 6 years is: 30\n",
      "{'Name': 'Hung', 'age': 30, 'study_level': 'master degree', 'job': 'DevOps Engineer'}\n"
     ]
    }
   ],
   "source": [
    "# Add an item \n",
    "user_infor[\"job\"] = \"DevOps Engineer\"\n",
    "\n",
    "# Modify an item\n",
    "user_infor[\"age\"] = 30 \n",
    "print(f\"My age after 6 years is: {user_infor[\"age\"]}\")\n",
    "\n",
    "print(user_infor)"
   ]
  },
  {
   "cell_type": "markdown",
   "id": "38cd831b",
   "metadata": {},
   "source": [
    "3. *Remove Items* where we have several options \n",
    "  - `pop(key)` removes the item with specified key and return its value\n",
    "  - `del` removes the item with the specified key \n",
    "  - `clear()` removes all items from the dictionary"
   ]
  },
  {
   "cell_type": "code",
   "execution_count": 116,
   "id": "d533b58b",
   "metadata": {},
   "outputs": [
    {
     "name": "stdout",
     "output_type": "stream",
     "text": [
      "DevOps Engineer\n",
      "{'Name': 'Hung', 'study_level': 'master degree'}\n"
     ]
    }
   ],
   "source": [
    "remove_job = user_infor.pop(\"job\")\n",
    "\n",
    "print(remove_job)\n",
    "\n",
    "del user_infor[\"age\"]\n",
    "\n",
    "print(user_infor)"
   ]
  },
  {
   "cell_type": "markdown",
   "id": "e9c654dc",
   "metadata": {},
   "source": [
    "4. *Loop through elements*"
   ]
  },
  {
   "cell_type": "code",
   "execution_count": 117,
   "id": "406104e5",
   "metadata": {},
   "outputs": [
    {
     "name": "stdout",
     "output_type": "stream",
     "text": [
      "Here is the key: Name\n",
      "Here is the key: study_level\n",
      "Here is the value in a dictionary: Hung\n",
      "Here is the value in a dictionary: master degree\n",
      "Here is Name and corresponding value is Hung\n",
      "Here is study_level and corresponding value is master degree\n"
     ]
    }
   ],
   "source": [
    "\n",
    "# Return key\n",
    "for key in user_infor:\n",
    "    print(f\"Here is the key: {key}\")\n",
    "\n",
    "# Return value\n",
    "for value in user_infor.values():\n",
    "    print(f\"Here is the value in a dictionary: {value}\")\n",
    "\n",
    "\n",
    "for key, value in user_infor.items():\n",
    "    print(f\"Here is {key} and corresponding value is {value}\")"
   ]
  },
  {
   "cell_type": "markdown",
   "id": "20d22f9d",
   "metadata": {},
   "source": [
    "## Functional Programming\n",
    "\n",
    "A programming paradigm where programs are built using functions as the main building blocks \n",
    "\n",
    "1. It emphasizes what to do rather how to do it \n",
    "2. Function can be passed around just like variables \n",
    "\n",
    "Python provides tool that support Functional Programming styles: \n",
    "1. map()\n",
    "2. filter()\n",
    "3. reduce()\n",
    "4. lambda function \n",
    "5. sorted()\n"
   ]
  },
  {
   "cell_type": "markdown",
   "id": "2dc51d38",
   "metadata": {},
   "source": [
    "### map() function\n",
    "\n",
    "This is the same with loop but more convenience. Basically, it applies a function to every item in iterable objects such as list, tuple, ....\n",
    "\n",
    "Its syntax should be \n",
    "`map(function, iterable_object)`\n",
    "\n",
    "For example,"
   ]
  },
  {
   "cell_type": "code",
   "execution_count": 118,
   "id": "4ce8cda2",
   "metadata": {},
   "outputs": [
    {
     "name": "stdout",
     "output_type": "stream",
     "text": [
      "Upper case list: ['BANANA', 'APPLE', 'ORANGE', 'GRAPE']\n"
     ]
    }
   ],
   "source": [
    "new_list = ['Banana', 'Apple', 'Orange', 'Grape']\n",
    "\n",
    "upper_list = list(map(lambda a: a.upper(), new_list))\n",
    "\n",
    "print(f\"Upper case list: {upper_list}\")"
   ]
  },
  {
   "cell_type": "markdown",
   "id": "62bea919",
   "metadata": {},
   "source": [
    "### reduce() function\n",
    "\n",
    "This one will applies a function cumulatively to the items of the iterable, reducing it to a single value \n",
    "\n",
    "Its syntax\n",
    "\n",
    "`reduce(function, iterable, [initilizer])`\n",
    "\n",
    "This function must accept 2 parameters\n",
    "1. One parameter represent the last result\n",
    "2. Another parameter represents for the current item\n",
    "\n",
    "For example,"
   ]
  },
  {
   "cell_type": "code",
   "execution_count": 119,
   "id": "889ea43f",
   "metadata": {},
   "outputs": [
    {
     "name": "stdout",
     "output_type": "stream",
     "text": [
      "Sum value of the list: BananaAppleOrangeGrape\n"
     ]
    }
   ],
   "source": [
    "## Suppose we want to create a sum of a list \n",
    "from functools import *\n",
    "\n",
    "sum_value = reduce(lambda a,b: a + b, new_list)\n",
    "\n",
    "print(f\"Sum value of the list: {sum_value}\")"
   ]
  },
  {
   "cell_type": "markdown",
   "id": "9395bd9d",
   "metadata": {},
   "source": [
    "### filter() function \n",
    "\n",
    "This one will help us to keep only the elements where the function return True. The syntax should be \n",
    "\n",
    "`filter(function, iterable)`\n",
    "\n",
    "This function will return only *True* or *False*\n",
    "\n",
    "For example, "
   ]
  },
  {
   "cell_type": "code",
   "execution_count": 120,
   "id": "76ee05a3",
   "metadata": {},
   "outputs": [
    {
     "name": "stdout",
     "output_type": "stream",
     "text": [
      "Apple value from the list: ['Apple']\n"
     ]
    }
   ],
   "source": [
    "apple_value_list = list(filter(lambda a: a == 'Apple', new_list))\n",
    "\n",
    "print(f\"Apple value from the list: {apple_value_list}\")"
   ]
  },
  {
   "cell_type": "markdown",
   "id": "7c5273ad",
   "metadata": {},
   "source": [
    "### sorted() function \n",
    "\n",
    "Based on its name, this one will help us to sort the iterable either in descending or asccending order\n",
    "\n",
    "Its syntax \n",
    "`sorted(iterable, key=value, reverse=True/False)`"
   ]
  },
  {
   "cell_type": "code",
   "execution_count": 121,
   "id": "6dfbb2ba",
   "metadata": {},
   "outputs": [
    {
     "name": "stdout",
     "output_type": "stream",
     "text": [
      "Here is the sorted order by len in reversed way: ['Banana', 'Orange', 'Apple', 'Grape']\n"
     ]
    }
   ],
   "source": [
    "sorted_new_list = sorted(new_list, key=len , reverse=True)\n",
    "\n",
    "print(f\"Here is the sorted order by len in reversed way: {sorted_new_list}\")"
   ]
  },
  {
   "cell_type": "markdown",
   "id": "d7d33eee",
   "metadata": {},
   "source": [
    "\n",
    "### Lambda Function \n",
    "\n",
    "A lambda function is small, anonymous (no name) function. So this function will be defined as \n",
    "1. Using the keyword `lambda`\n",
    "2. Syntax would be \n",
    "`lambda arguments: expressions`\n",
    "\n",
    "For example,"
   ]
  },
  {
   "cell_type": "code",
   "execution_count": 122,
   "id": "0ba41d9f",
   "metadata": {},
   "outputs": [
    {
     "name": "stdout",
     "output_type": "stream",
     "text": [
      "Value of normal function: 6\n",
      "Value of lambda function: 6\n"
     ]
    }
   ],
   "source": [
    "def increase_value(a):\n",
    "    return a + 1 \n",
    "\n",
    "# Which then equivelence to \n",
    "\n",
    "increase_val = lambda a: a + 1\n",
    "\n",
    "print(f\"Value of normal function: {increase_value(5)}\")\n",
    "print(f\"Value of lambda function: {increase_val(5)}\")"
   ]
  },
  {
   "cell_type": "markdown",
   "id": "f68a975e",
   "metadata": {},
   "source": [
    "We can use lambda function with above FP methods such as `map()`, `filter()`, `reduce()`,....\n",
    "\n",
    "For example, "
   ]
  },
  {
   "cell_type": "code",
   "execution_count": 123,
   "id": "1d3782ff",
   "metadata": {},
   "outputs": [
    {
     "name": "stdout",
     "output_type": "stream",
     "text": [
      "List after update with map() and lambda function: [2, 3, 4, 5, 6, 7]\n"
     ]
    }
   ],
   "source": [
    "initial_list = [1,2,3,4,5,6]\n",
    "\n",
    "new_increase_list = list(map(lambda a: a + 1, initial_list))\n",
    "\n",
    "print(f\"List after update with map() and lambda function: {new_increase_list}\")"
   ]
  },
  {
   "cell_type": "code",
   "execution_count": 124,
   "id": "95c34250",
   "metadata": {},
   "outputs": [
    {
     "name": "stdout",
     "output_type": "stream",
     "text": [
      "New list after apply filter with lambda function: [2, 4, 6]\n"
     ]
    }
   ],
   "source": [
    "# Or we can use with filter \n",
    "\n",
    "odd_list = list(filter(lambda a: a%2==0, initial_list))\n",
    "\n",
    "print(f\"New list after apply filter with lambda function: {odd_list}\")"
   ]
  },
  {
   "cell_type": "markdown",
   "id": "4445f8f1",
   "metadata": {},
   "source": [
    "## args & kwargs \n",
    "\n",
    "### args (Non-keyword arguments)\n",
    "\n",
    "This one let a function accept any number of positional arguments \n",
    "\n",
    "Inside the function, `args` will be a **tuple** "
   ]
  },
  {
   "cell_type": "code",
   "execution_count": 125,
   "id": "cfec9bc5",
   "metadata": {},
   "outputs": [
    {
     "name": "stdout",
     "output_type": "stream",
     "text": [
      "(2, 3)\n",
      "(2, 3, 4)\n",
      "(2, 3, 4, 5)\n",
      "5\n",
      "9\n",
      "14\n"
     ]
    }
   ],
   "source": [
    "def add_numbers(*args):\n",
    "    print(args)\n",
    "    return sum(args)\n",
    "\n",
    "two_number_sum = add_numbers(2,3)\n",
    "three_number_sum = add_numbers(2,3,4)\n",
    "four_number_sum = add_numbers(2,3,4,5)\n",
    "\n",
    "print(two_number_sum)\n",
    "print(three_number_sum)\n",
    "print(four_number_sum)"
   ]
  },
  {
   "cell_type": "markdown",
   "id": "7ae67d21",
   "metadata": {},
   "source": [
    "### kwargs (Keyword Arguments)\n",
    "\n",
    "This will let a function accept any number of keyword arguments \n",
    "\n",
    "Inside the function, `kwargs` will be a **dictionary**"
   ]
  },
  {
   "cell_type": "code",
   "execution_count": 126,
   "id": "6682c453",
   "metadata": {},
   "outputs": [
    {
     "name": "stdout",
     "output_type": "stream",
     "text": [
      "name: Hung\n",
      "age: 24\n",
      "study_level: Master\n"
     ]
    }
   ],
   "source": [
    "def print_info(**kwargs):\n",
    "    for key, value in kwargs.items():\n",
    "        print(f\"{key}: {value}\")\n",
    "\n",
    "print_info(name=\"Hung\", age=24, study_level=\"Master\")"
   ]
  },
  {
   "cell_type": "markdown",
   "id": "fe654a80",
   "metadata": {},
   "source": [
    "So if we combine these 2 `args` and `kwargs`, we will provide a dynamic function which can accept the value based on user input"
   ]
  },
  {
   "cell_type": "code",
   "execution_count": 127,
   "id": "52ca30ca",
   "metadata": {},
   "outputs": [
    {
     "name": "stdout",
     "output_type": "stream",
     "text": [
      "Positional args: (1, 2, 3)\n",
      "Keyword args: {'name': 'Bob', 'age': 30}\n"
     ]
    }
   ],
   "source": [
    "def mix_example(*args, **kwargs):\n",
    "    print(\"Positional args:\", args)\n",
    "    print(\"Keyword args:\", kwargs)\n",
    "\n",
    "mix_example(1, 2, 3, name=\"Bob\", age=30)"
   ]
  },
  {
   "cell_type": "markdown",
   "id": "6009ef26",
   "metadata": {},
   "source": [
    "In this case, if we pass to function non-key argument, it will fall to *args* and if we provide more details with keyword arguments, the function will use *kwargs*"
   ]
  }
 ],
 "metadata": {
  "kernelspec": {
   "display_name": "Python 3",
   "language": "python",
   "name": "python3"
  },
  "language_info": {
   "codemirror_mode": {
    "name": "ipython",
    "version": 3
   },
   "file_extension": ".py",
   "mimetype": "text/x-python",
   "name": "python",
   "nbconvert_exporter": "python",
   "pygments_lexer": "ipython3",
   "version": "3.13.3"
  }
 },
 "nbformat": 4,
 "nbformat_minor": 5
}
