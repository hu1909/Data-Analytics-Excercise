{
 "cells": [
  {
   "cell_type": "markdown",
   "id": "97b0cddc",
   "metadata": {},
   "source": [
    "## Question 1 \n",
    "\n"
   ]
  },
  {
   "cell_type": "code",
   "execution_count": null,
   "id": "89835fea",
   "metadata": {},
   "outputs": [],
   "source": []
  },
  {
   "cell_type": "markdown",
   "id": "04eb86e6",
   "metadata": {},
   "source": [
    "## Question 2 \n",
    "\n",
    "Implement two data descriptors:\n",
    "\n",
    "1) class NonEmptyStr: only allows non-empty strings (after stripping).\n",
    "2) class PositiveFloat: only allows floats > 0 (ints are allowed but stored as float).\n",
    "\n",
    "Then implement a class Product that uses them:\n",
    "- name = NonEmptyStr()\n",
    "- price = PositiveFloat()\n",
    "\n",
    "Requirements:\n",
    "- Implement __set_name__, __get__, __set__ in each descriptor.\n",
    "- Store values in the instance dict under a private key derived from the attribute name,\n",
    "  e.g., f\"_{owner.__name__}__{name}\" or similar.\n",
    "- Raise ValueError on invalid assignments.\n",
    "- Product's attributes should be readable and writable with validation enforced.\n",
    "\n",
    "No I/O; no external libraries."
   ]
  },
  {
   "cell_type": "code",
   "execution_count": null,
   "id": "af843ed1",
   "metadata": {},
   "outputs": [],
   "source": [
    "class NonEmptyStr:\n",
    "    pass\n",
    "\n",
    "\n",
    "class PositiveFloat:\n",
    "    pass\n",
    "\n",
    "\n",
    "class Product:\n",
    "    pass"
   ]
  },
  {
   "cell_type": "markdown",
   "id": "5406e34d",
   "metadata": {},
   "source": [
    "## Question 3 \n",
    "\n",
    "Implement a decorator factory `retry(retries=3, delay=0.0, backoff=1.0, exceptions=(Exception,))`\n",
    "that retries the wrapped function when it raises any of `exceptions`.\n",
    "\n",
    "Requirements:\n",
    "- Use `functools.wraps` to preserve metadata.\n",
    "- On each failure, try again up to `retries` total attempts.\n",
    "- Sleep between attempts: delay * (backoff ** (attempt_index-1)).\n",
    "  (The first retry waits `delay`, second waits `delay*backoff`, etc.)\n",
    "- Expose `wrapper.retries_used` (int) after each call indicating how many attempts were used.\n",
    "- If all attempts fail, re-raise the last exception.\n",
    "\n",
    "Notes:\n",
    "- Tests will pass `delay=0.0` to avoid waiting.\n",
    "- Do not perform I/O; no logging to files."
   ]
  },
  {
   "cell_type": "code",
   "execution_count": null,
   "id": "a281186d",
   "metadata": {},
   "outputs": [],
   "source": [
    "import time\n",
    "import functools\n",
    "\n",
    "def retry(retries=3, delay=0.0, backoff=1.0, exceptions=(Exception,)):\n",
    "    \"\"\"\n",
    "    Return a decorator that retries the wrapped function on exceptions.\n",
    "    Expose wrapper.retries_used after each call.\n",
    "    \"\"\"\n",
    "    # TODO: implement\n",
    "    pass"
   ]
  },
  {
   "cell_type": "markdown",
   "id": "22f15be1",
   "metadata": {},
   "source": [
    "## Question 4 \n",
    "\n",
    "Write a decorator `timeit` that measures function runtime.\n",
    "\n",
    "Requirements:\n",
    "- Usage: \n",
    "    @timeit\n",
    "    def f(...): ...\n",
    "- It must call the original function and return its normal result.\n",
    "- It must store the elapsed time (in seconds, float) on the wrapper as attribute `last_elapsed`.\n",
    "- Use `functools.wraps` to preserve the original function's metadata (`__name__`, `__doc__`, ...).\n",
    "\n",
    "Example:\n",
    ">>> @timeit\n",
    "... def add(a, b): return a + b\n",
    ">>> r = add(2, 3)\n",
    ">>> r\n",
    "5\n",
    ">>> isinstance(add.last_elapsed, float)\n",
    "True\n",
    ">>> add.__name__\n",
    "'add'"
   ]
  },
  {
   "cell_type": "code",
   "execution_count": null,
   "id": "31cf3108",
   "metadata": {},
   "outputs": [],
   "source": [
    "import time\n",
    "import functools\n",
    "\n",
    "def timeit(func):\n",
    "    # TODO: implement decorator\n",
    "    pass"
   ]
  },
  {
   "cell_type": "markdown",
   "id": "8805c2d0",
   "metadata": {},
   "source": [
    "## Question 5 \n",
    "\n",
    "A dataset is available in the folder `animals/` at the root directory.  \n",
    "This folder contains five class subdirectories: dog, chicken, cat, goose, horse,  \n",
    "and one file `meta.txt` (ignore this file).\n",
    "\n",
    "Task:\n",
    "- Implement a function `build_dataframe(base_path)` that returns a Pandas DataFrame with 2 columns:\n",
    "    * filename : the image file name (string, not including the directory path)\n",
    "    * class    : the class name (the subfolder name)\n",
    "- Requirements:\n",
    "    * Iterate over all immediate subdirectories of `base_path` (ignore files like meta.txt).\n",
    "    * Only include files with common image extensions: jpg, jpeg, png, bmp, gif, webp (case-insensitive).\n",
    "    * Ignore subdirectories inside class folders.\n",
    "    * The DataFrame does not need to be sorted.\n",
    "- Example:\n",
    "    >>> df = build_dataframe(\"animals\")\n",
    "    >>> set(df.columns) == {\"filename\", \"class\"}\n",
    "    True\n",
    "\n"
   ]
  },
  {
   "cell_type": "code",
   "execution_count": null,
   "id": "8c023084",
   "metadata": {},
   "outputs": [],
   "source": [
    "import os\n",
    "import pandas as pd\n",
    "\n",
    "def build_dataframe(base_path):\n",
    "    \"\"\"\n",
    "    Return a Pandas DataFrame with 2 columns: filename, class.\n",
    "    Each row corresponds to an image file under the class subdirectories.\n",
    "    \"\"\"\n",
    "    # TODO\n",
    "    pass"
   ]
  },
  {
   "cell_type": "markdown",
   "id": "e335b761",
   "metadata": {},
   "source": [
    "## Question 6 \n",
    "\n",
    "A dataset is available in the folder `animals/` at the root directory.  \n",
    "This folder contains five class subdirectories: dog, chicken, cat, goose, horse,  \n",
    "and one file `meta.txt` (ignore this file).\n",
    "\n",
    "Task:\n",
    "- Implement a function `build_dataframe_with_rgb(base_path)` that returns a Pandas DataFrame with 5 columns:\n",
    "    * filename : the image file name (string, not including directory path)\n",
    "    * class    : the class name (the subfolder name)\n",
    "    * r_mean   : mean value of the red channel (0–255, float or int)\n",
    "    * g_mean   : mean value of the green channel\n",
    "    * b_mean   : mean value of the blue channel\n",
    "- Requirements:\n",
    "    * Iterate over all immediate subdirectories of `base_path` (ignore files like meta.txt).\n",
    "    * Only include files with common image extensions: jpg, jpeg, png, bmp, gif, webp (case-insensitive).\n",
    "    * Ignore subdirectories inside class folders.\n",
    "    * Use OpenCV (`cv2.imread`) to read images. Remember: cv2 loads images as BGR, so convert to RGB.\n",
    "- Example:\n",
    "    >>> df = build_dataframe_with_rgb(\"animals\")\n",
    "    >>> set(df.columns) == {\"filename\", \"class\", \"r_mean\", \"g_mean\", \"b_mean\"}\n",
    "    True"
   ]
  },
  {
   "cell_type": "code",
   "execution_count": null,
   "id": "c1f80998",
   "metadata": {},
   "outputs": [],
   "source": [
    "import os\n",
    "import cv2\n",
    "import pandas as pd\n",
    "\n",
    "def build_dataframe_with_rgb(base_path):\n",
    "    \"\"\"\n",
    "    Return a Pandas DataFrame with columns:\n",
    "    filename, class, r_mean, g_mean, b_mean.\n",
    "    Each row corresponds to one image in the dataset.\n",
    "    \"\"\"\n",
    "    # TODO\n",
    "    pass"
   ]
  },
  {
   "cell_type": "markdown",
   "id": "bc03fd9c",
   "metadata": {},
   "source": [
    "## Question 7 \n",
    "\n",
    "Implement a function `make_fibo()` that returns a closure `fiboKhông` computing the n-th Fibonacci number.\n",
    "\n",
    "Requirements:\n",
    "- Use a closure with an internal DICTIONARY cache (memoization). No globals, no classes, no @lru_cache.\n",
    "- The cache must persist across multiple calls to the same closure.\n",
    "- Different closures from `make_fibo()` must have independent caches.\n",
    "\n",
    "Definitions:\n",
    "fibo(0) = 0, fibo(1) = 1, fiboKhông = fibo(n-1) + fibo(n-2) for n >= 2."
   ]
  },
  {
   "cell_type": "code",
   "execution_count": null,
   "id": "a8d9f004",
   "metadata": {},
   "outputs": [],
   "source": [
    "def make_fibo():\n",
    "    \"\"\"\n",
    "    Return a closure fibo(n) that computes Fibonacci numbers with memoization.\n",
    "    Must use an internal DICTIONARY cache inside the closure.\n",
    "    No globals, no classes, no @lru_cache.\n",
    "    \"\"\"\n",
    "    # TODO\n",
    "    pass"
   ]
  },
  {
   "cell_type": "markdown",
   "id": "2497c710",
   "metadata": {},
   "source": [
    "## Question 8 \n",
    "\n",
    "Implement a function `make_counter(start=0, step=1)` that returns a closure `counter()`.\n",
    "\n",
    "Requirements:\n",
    "- The returned `counter()` keeps internal state via a closure (no global/static/class).\n",
    "- Each call to `counter()` increases the internal value by `step` and returns the current value.\n",
    "- Different counters created by `make_counter` must have independent states.\n",
    "\n",
    "Examples:\n",
    ">>> c = make_counter()        # start=0, step=1\n",
    ">>> c()\n",
    "1\n",
    ">>> c()\n",
    "2\n",
    ">>> d = make_counter(10, 5)   # independent\n",
    ">>> d()\n",
    "15\n",
    ">>> c()\n",
    "3"
   ]
  },
  {
   "cell_type": "code",
   "execution_count": null,
   "id": "1ded587b",
   "metadata": {},
   "outputs": [],
   "source": [
    "def make_counter(start=0, step=1): \"\"\" Return a closure counter() that increments an internal value by step and returns the current value on each call. Must use a closure (no global/static/class state). \"\"\" # TODO: implement using a closure \n",
    "pass "
   ]
  },
  {
   "cell_type": "markdown",
   "id": "4a12e2f1",
   "metadata": {},
   "source": [
    "## Question 9 \n",
    "\n",
    "Implement a function `make_multiplier(factor)` that returns a closure `multiply(x)`.\n",
    "\n",
    "Requirements:\n",
    "- The closure must capture the variable `factor`.\n",
    "- Each call `multiply(x)` returns `x * factor`.\n",
    "- Different closures must have independent factors.\n",
    "\n",
    "Example:\n",
    ">>> times3 = make_multiplier(3)\n",
    ">>> times3(4)\n",
    "12\n",
    ">>> times5 = make_multiplier(5)\n",
    ">>> times5(2)\n",
    "10"
   ]
  },
  {
   "cell_type": "code",
   "execution_count": null,
   "id": "635b93ce",
   "metadata": {},
   "outputs": [],
   "source": [
    "def make_multiplier(factor):\n",
    "    \"\"\"\n",
    "    Return a closure multiply(x) that returns x * factor.\n",
    "    Must capture factor via closure.\n",
    "    \"\"\"\n",
    "    # TODO\n",
    "    pass"
   ]
  },
  {
   "cell_type": "markdown",
   "id": "d7206ec2",
   "metadata": {},
   "source": [
    "## Question 10 \n",
    "\n",
    "Write a function `list_files(path)` that returns a sorted list of file names \n",
    "(including extension) in the given directory. \n",
    "\n",
    "- Do not include subdirectories in the result. \n",
    "- You may use modules `os` or `pathlib`. "
   ]
  },
  {
   "cell_type": "code",
   "execution_count": null,
   "id": "07d9be56",
   "metadata": {},
   "outputs": [],
   "source": [
    "import os\n",
    "\n",
    "def list_files(path):\n",
    "    \"\"\"\n",
    "    Return a sorted list of file names in the given directory.\n",
    "    Ignore subdirectories.\n",
    "    \"\"\"\n",
    "    # TODO\n",
    "    pass"
   ]
  },
  {
   "cell_type": "markdown",
   "id": "c69e999f",
   "metadata": {},
   "source": [
    "## Question 11 \n",
    "\n",
    "Write a decorator factory `repeatKhông` that repeats the execution of a function `n` times.\n",
    "\n",
    "Requirements:\n",
    "- Usage:\n",
    "    @repeat(3)\n",
    "    def hello(): print(\"hi\")\n",
    "- If the function returns a value, only the last result is returned.\n",
    "- Use functools.wraps to preserve metadata.\n",
    "\n"
   ]
  },
  {
   "cell_type": "code",
   "execution_count": null,
   "id": "1c09812b",
   "metadata": {},
   "outputs": [],
   "source": [
    "import functools\n",
    "\n",
    "def repeat(n):\n",
    "    # TODO\n",
    "    pass"
   ]
  },
  {
   "cell_type": "markdown",
   "id": "ae1c48dc",
   "metadata": {},
   "source": [
    "## Question 12 \n",
    "\n",
    "Write a decorator `uppercase` that converts the return value of a function into uppercase if it is a string.\n",
    "\n",
    "Requirements:\n",
    "- Usage: \n",
    "    @uppercase\n",
    "    def greet(name): return \"Hello \" + name\n",
    "- If the result is not a string, return it unchanged.\n",
    "- Use functools.wraps to preserve metadata."
   ]
  },
  {
   "cell_type": "code",
   "execution_count": null,
   "id": "02b99f25",
   "metadata": {},
   "outputs": [],
   "source": [
    "import functools\n",
    "\n",
    "def uppercase(func):\n",
    "    # TODO\n",
    "    pass"
   ]
  },
  {
   "cell_type": "markdown",
   "id": "633cd88a",
   "metadata": {},
   "source": [
    "## Question 13\n",
    "\n",
    "A dataset is available in the folder `animals/` at the root directory.  \n",
    "This folder contains five class subdirectories: dog, chicken, cat, goose, horse,  \n",
    "and one file `meta.txt` (ignore this file).\n",
    "\n",
    "Task:\n",
    "- Implement a function `build_dataframe_with_size(base_path)` that returns a Pandas DataFrame with 4 columns:\n",
    "    * filename : the image file name (string, not including directory path)\n",
    "    * class    : the class name (the subfolder name)\n",
    "    * width    : image width in pixels (integer)\n",
    "    * height   : image height in pixels (integer)\n",
    "- Requirements:\n",
    "    * Iterate over all immediate subdirectories of `base_path` (ignore files like meta.txt).\n",
    "    * Only include files with common image extensions: jpg, jpeg, png, bmp, gif, webp (case-insensitive).\n",
    "    * Ignore subdirectories inside class folders.\n",
    "    * Use Pillow (`from PIL import Image`) to read image size.\n",
    "- Example:\n",
    "    >>> df = build_dataframe_with_size(\"animals\")\n",
    "    >>> set(df.columns) == {\"filename\", \"class\", \"width\", \"height\"}\n",
    "    True\n",
    "\n"
   ]
  },
  {
   "cell_type": "code",
   "execution_count": null,
   "id": "4afddd40",
   "metadata": {},
   "outputs": [],
   "source": [
    "import os\n",
    "import pandas as pd\n",
    "from PIL import Image\n",
    "\n",
    "def build_dataframe_with_size(base_path):\n",
    "    \"\"\"\n",
    "    Return a DataFrame with columns: filename, class, width, height.\n",
    "    Each row corresponds to one image in the dataset.\n",
    "    \"\"\"\n",
    "    # TODO\n",
    "    pass"
   ]
  },
  {
   "cell_type": "markdown",
   "id": "7afc0136",
   "metadata": {},
   "source": [
    "## Question 14 \n",
    "\n",
    "A dataset is available in the folder `animals/` at the root directory.  \n",
    "This folder contains five class subdirectories: dog, chicken, cat, goose, horse,  \n",
    "and one file `meta.txt` (ignore this file).\n",
    "\n",
    "Task:\n",
    "- Implement a function `count_images_per_class(base_path)` that returns a dictionary mapping class_name -> number_of_images.\n",
    "- Requirements:\n",
    "  * Iterate over all immediate subdirectories of `base_path` (ignore files like meta.txt).\n",
    "  * Count only image files inside each class folder. Ignore subdirectories.\n",
    "  * Consider common image extensions: jpg, jpeg, png, bmp, gif, webp (case-insensitive).\n",
    "  * Return a dictionary {class_name: count} with integer counts.\n",
    "\n",
    "Example:\n",
    ">>> res = count_images_per_class(\"animals\")\n",
    ">>> isinstance(res, dict)\n",
    "True"
   ]
  },
  {
   "cell_type": "code",
   "execution_count": null,
   "id": "c6a4bbe9",
   "metadata": {},
   "outputs": [],
   "source": [
    "import os\n",
    "\n",
    "def count_images_per_class(base_path):\n",
    "    \"\"\"\n",
    "    Return a dict {class_name: number_of_images} by scanning the immediate\n",
    "    subdirectories of `base_path` and counting image files inside each class folder.\n",
    "\n",
    "    Image extensions considered: jpg, jpeg, png, bmp, gif, webp (case-insensitive).\n",
    "    Ignore files at base_path (e.g., meta.txt) and ignore subdirectories inside classes.\n",
    "    \"\"\"\n",
    "    # TODO: implement\n",
    "    pass"
   ]
  },
  {
   "cell_type": "markdown",
   "id": "64196da2",
   "metadata": {},
   "source": [
    "## Question 15 \n",
    "\n",
    "A dataset is available in the folder `animals/` at the root directory.\n",
    "This folder contains five class subdirectories: dog, chicken, cat, goose, horse,\n",
    "and one file `meta.txt` (ignore this file).\n",
    "\n",
    "Task:\n",
    "- Implement a function `build_rgb_features_and_labels(base_path)` that returns a tuple `(X, y, classes)`:\n",
    "    * X       : a list of feature vectors [[r_mean, g_mean, b_mean], ...] computed from each image\n",
    "    * y       : a list of integer labels corresponding to each row in X\n",
    "    * classes : a list of class names, where `y` uses index in this list (i.e., label encoding)\n",
    "- Requirements:\n",
    "    * Use OpenCV (`cv2.imread`) to read images. Remember: cv2 loads images as BGR, so convert to RGB.\n",
    "    * Consider only files with extensions: jpg, jpeg, png, bmp, gif, webp (case-insensitive).\n",
    "    * Iterate only immediate subdirectories of `base_path`; ignore files like meta.txt.\n",
    "    * Ensure **deterministic label encoding** by sorting class names alphabetically to build `classes`.\n",
    "    * The order of samples in X and y does not matter, but y[i] must match X[i] and classes.\n",
    "\n",
    "Example:\n",
    ">>> X, y, classes = build_rgb_features_and_labels(\"animals\")\n",
    ">>> isinstance(X, list) and isinstance(y, list) and isinstance(classes, list)\n",
    "True"
   ]
  },
  {
   "cell_type": "code",
   "execution_count": null,
   "id": "e5dbedea",
   "metadata": {},
   "outputs": [],
   "source": [
    "import os\n",
    "import cv2\n",
    "\n",
    "def build_rgb_features_and_labels(base_path):\n",
    "    \"\"\"\n",
    "    Return (X, y, classes):\n",
    "      - X: list of [r_mean, g_mean, b_mean] for each image\n",
    "      - y: list of integer labels aligned with X\n",
    "      - classes: sorted list of class names; labels are indices in this list\n",
    "    Use cv2 to read images (BGR) and convert to RGB before computing means.\n",
    "    \"\"\"\n",
    "    # TODO\n",
    "    pass"
   ]
  }
 ],
 "metadata": {
  "kernelspec": {
   "display_name": "Python 3",
   "language": "python",
   "name": "python3"
  },
  "language_info": {
   "name": "python",
   "version": "3.13.3"
  }
 },
 "nbformat": 4,
 "nbformat_minor": 5
}
