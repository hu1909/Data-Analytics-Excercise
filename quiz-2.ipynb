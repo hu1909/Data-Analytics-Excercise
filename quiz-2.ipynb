{
 "cells": [
  {
   "cell_type": "markdown",
   "id": "417e7713",
   "metadata": {},
   "source": [
    "## Question 1 \n",
    "\n",
    "Create a function that takes a string and:\n",
    "\n",
    "1. Uses regex to check if it's a valid email\n",
    "2. Returns True if valid, False otherwise\n",
    "3. Handles basic email format validation\n",
    "\n",
    "Use re module for regular expressions.\n",
    "\n",
    "Example: \"user@domain.com\" → True, \"invalid-email\" → False"
   ]
  },
  {
   "cell_type": "code",
   "execution_count": null,
   "id": "60cf52de",
   "metadata": {},
   "outputs": [],
   "source": [
    "def validate_email(email):\n",
    "    # TODO: Complete with regex\n",
    "    # 1. Use re module to validate email format\n",
    "    # 2. Return True if valid, False otherwise\n",
    "    import re\n",
    "    return False"
   ]
  },
  {
   "cell_type": "markdown",
   "id": "015e5358",
   "metadata": {},
   "source": [
    "## Question 2\n",
    "\n",
    "1. Attempts to convert value to target type\n",
    "2. Handles ValueError and TypeError\n",
    "3. Returns (converted_value, error_message) tuple\n",
    "\n",
    "Use try-except blocks for error handling.\n",
    "\n",
    "Example: \"123\", int → (123, None), \"abc\", int → (None, \"Invalid literal\")"
   ]
  },
  {
   "cell_type": "code",
   "execution_count": null,
   "id": "b37ec92a",
   "metadata": {},
   "outputs": [],
   "source": [
    "def safe_type_conversion(value, target_type):\n",
    "    # TODO: Complete with try-except\n",
    "    # 1. Attempt to convert value to target type\n",
    "    # 2. Handle ValueError and TypeError\n",
    "    # 3. Return (converted_value, error_message) tuple\n",
    "    return (None, None)"
   ]
  },
  {
   "cell_type": "markdown",
   "id": "0e6a6b21",
   "metadata": {},
   "source": [
    "## Question 3\n",
    "\n",
    "Task (Error Handling) — Course: Programming for AI and Data Science\n",
    "\n",
    "Complete the function to safely convert data types.\n",
    "\n",
    "Create a function that takes a value and target type and:\n",
    "\n",
    "1. Attempts to convert value to target type\n",
    "2. Handles ValueError and TypeError\n",
    "3. Returns (converted_value, error_message) tuple\n",
    "\n",
    "Use try-except blocks for error handling.\n",
    "\n",
    "Example: \"123\", int → (123, None), \"abc\", int → (None, \"Invalid literal\")"
   ]
  },
  {
   "cell_type": "code",
   "execution_count": null,
   "id": "dfbf3016",
   "metadata": {},
   "outputs": [],
   "source": []
  },
  {
   "cell_type": "markdown",
   "id": "865eccfc",
   "metadata": {},
   "source": [
    "## Question 4\n",
    "\n",
    "Create a function that takes a log content string and:\n",
    "\n",
    "1. Counts lines containing \"ERROR\" and \"WARNING\"\n",
    "2. Finds the most common word\n",
    "3. Returns a dictionary with statistics\n",
    "\n",
    "Use only Python standard library.\n",
    "\n",
    "Example: \"INFO: start\\nERROR: failed\\nWARNING: retry\" → {'error_count': 1, 'warning_count': 1, 'most_common': 'start'}"
   ]
  },
  {
   "cell_type": "code",
   "execution_count": null,
   "id": "be82cfcd",
   "metadata": {},
   "outputs": [],
   "source": []
  },
  {
   "cell_type": "markdown",
   "id": "a081d058",
   "metadata": {},
   "source": [
    "## Question 5 \n",
    "\n",
    "Create a function that takes two numbers and:\n",
    "\n",
    "1. Attempts to divide first by second\n",
    "2. Handles division by zero error\n",
    "3. Returns (result, error_message) tuple\n",
    "\n",
    "Use try-except blocks for error handling.\n",
    "\n",
    "Example: 10, 2 → (5.0, None), 10, 0 → (None, \"Division by zero\")"
   ]
  },
  {
   "cell_type": "code",
   "execution_count": null,
   "id": "693b21e7",
   "metadata": {},
   "outputs": [],
   "source": []
  },
  {
   "cell_type": "markdown",
   "id": "dffd2e4b",
   "metadata": {},
   "source": [
    "## Question 6\n",
    "\n",
    "Create a function that takes a CSV string and:\n",
    "\n",
    "1. Parses comma-separated values\n",
    "2. Counts columns and rows\n",
    "3. Returns a tuple (row_count, column_count, data)\n",
    "\n",
    "Use only Python standard library.\n",
    "\n",
    "Example: \"a,b,c\\n1,2,3\" → (2, 3, [['a','b','c'], ['1','2','3']])"
   ]
  },
  {
   "cell_type": "code",
   "execution_count": null,
   "id": "a25dbbea",
   "metadata": {},
   "outputs": [],
   "source": []
  },
  {
   "cell_type": "markdown",
   "id": "c4751e71",
   "metadata": {},
   "source": [
    "## Question 7\n",
    "\n",
    "Create a function that takes a text string and:\n",
    "\n",
    "1. Uses regex to find all phone numbers\n",
    "2. Returns a list of found phone numbers\n",
    "3. Handles common phone number formats\n",
    "\n",
    "Use re module for regular expressions.\n",
    "\n",
    "Example: \"Call 123-456-7890 or 987.654.3210\" → ['123-456-7890', '987.654.3210']"
   ]
  },
  {
   "cell_type": "code",
   "execution_count": null,
   "id": "ee9ccf9e",
   "metadata": {},
   "outputs": [],
   "source": []
  },
  {
   "cell_type": "markdown",
   "id": "16f8bb1e",
   "metadata": {},
   "source": [
    "## Question 8\n",
    "\n",
    "Create a function that takes a text string and:\n",
    "\n",
    "1. Uses regex to find dates in format DD/MM/YYYY\n",
    "2. Returns a list of found dates\n",
    "3. Handles basic date pattern validation\n",
    "\n",
    "Use re module for regular expressions.\n",
    "\n",
    "Example: \"Meeting on 15/03/2024 and 20/04/2024\" → ['15/03/2024', '20/04/2024']"
   ]
  },
  {
   "cell_type": "code",
   "execution_count": null,
   "id": "c0673966",
   "metadata": {},
   "outputs": [],
   "source": [
    "def find_dates(text):\n",
    "    # TODO: Complete with regex\n",
    "    # 1. Use re module to find dates\n",
    "    # 2. Return list of found dates\n",
    "    import re\n",
    "    return []"
   ]
  },
  {
   "cell_type": "markdown",
   "id": "daa4da1b",
   "metadata": {},
   "source": [
    "## Question 9\n",
    "\n",
    "Create a function that takes a directory structure string and:\n",
    "\n",
    "1. Counts total files and folders\n",
    "2. Groups files by extension\n",
    "3. Returns a tuple (total_count, extension_counts)\n",
    "\n",
    "Use only Python standard library.\n",
    "\n",
    "Example: \"folder/file.txt\\nfolder/sub/file.py\" → (2, {'txt': 1, 'py': 1})"
   ]
  },
  {
   "cell_type": "code",
   "execution_count": null,
   "id": "d620aef0",
   "metadata": {},
   "outputs": [],
   "source": [
    "def analyze_directory(structure):\n",
    "    # TODO: Complete this function\n",
    "    # 1. Count total files and folders\n",
    "    # 2. Group files by extension\n",
    "    # 3. Return (total_count, extension_counts) tuple\n",
    "    return (0, {})"
   ]
  },
  {
   "cell_type": "markdown",
   "id": "47856d5d",
   "metadata": {},
   "source": [
    "## Question 10 \n",
    "\n",
    "Create a function that takes a list and an index and:\n",
    "\n",
    "1. Attempts to access the element at given index\n",
    "2. Handles IndexError for out-of-range access\n",
    "3. Returns (element, error_message) tuple\n",
    "\n",
    "Use try-except blocks for error handling.\n",
    "\n",
    "Example: [1,2,3], 1 → (2, None), [1,2,3], 5 → (None, \"Index out of range\")"
   ]
  },
  {
   "cell_type": "code",
   "execution_count": null,
   "id": "7b27c9ea",
   "metadata": {},
   "outputs": [],
   "source": [
    "def safe_list_access(data, index):\n",
    "    # TODO: Complete with try-except\n",
    "    # 1. Attempt to access element at index\n",
    "    # 2. Handle IndexError\n",
    "    # 3. Return (element, error_message) tuple\n",
    "    return (None, None)"
   ]
  },
  {
   "cell_type": "markdown",
   "id": "e1af1ad7",
   "metadata": {},
   "source": [
    "## Question 11 \n",
    "\n",
    "Create a function that takes a string and:\n",
    "\n",
    "1. Uses regex to check if it's a valid URL\n",
    "2. Returns True if valid, False otherwise\n",
    "3. Handles basic URL format validation\n",
    "\n",
    "Use re module for regular expressions.\n",
    "\n",
    "Example: \"https://example.com\" → True, \"not-a-url\" → False"
   ]
  },
  {
   "cell_type": "code",
   "execution_count": null,
   "id": "12e747ec",
   "metadata": {},
   "outputs": [],
   "source": [
    "def validate_url(url):\n",
    "    # TODO: Complete with regex\n",
    "    # 1. Use re module to validate URL format\n",
    "    # 2. Return True if valid, False otherwise\n",
    "    import re\n",
    "    return False"
   ]
  },
  {
   "cell_type": "markdown",
   "id": "c59a0198",
   "metadata": {},
   "source": [
    "## Question 12\n",
    "\n",
    "Create a function that takes a list of file paths and:\n",
    "\n",
    "1. Extracts file names and extensions\n",
    "2. Groups files by folder level\n",
    "3. Returns a dictionary {folder_level: [files]}\n",
    "\n",
    "Use only Python standard library.\n",
    "\n",
    "Example: [\"a/b.txt\", \"a/c.txt\", \"b/d.txt\"] → {1: ['b.txt', 'c.txt'], 2: ['d.txt']}"
   ]
  },
  {
   "cell_type": "code",
   "execution_count": null,
   "id": "94d3d6fd",
   "metadata": {},
   "outputs": [],
   "source": [
    "def process_file_paths(paths):\n",
    "    # TODO: Complete this function\n",
    "    # 1. Extract file names and extensions\n",
    "    # 2. Group files by folder level\n",
    "    # 3. Return {folder_level: [files]} dictionary\n",
    "    return {}"
   ]
  },
  {
   "cell_type": "markdown",
   "id": "9d8223bc",
   "metadata": {},
   "source": [
    "## Question 13\n",
    "\n",
    "Create a function that takes a dictionary and a key and:\n",
    "\n",
    "1. Attempts to get the value for the key\n",
    "2. Handles KeyError for missing keys\n",
    "3. Returns (value, error_message) tuple\n",
    "\n",
    "Use try-except blocks for error handling.\n",
    "\n",
    "Example: {'a': 1}, 'a' → (1, None), {'a': 1}, 'b' → (None, \"Key not found\")"
   ]
  },
  {
   "cell_type": "code",
   "execution_count": null,
   "id": "7717ce36",
   "metadata": {},
   "outputs": [],
   "source": [
    "def safe_dict_access(data, key):\n",
    "    # TODO: Complete with try-except\n",
    "    # 1. Attempt to get value for key\n",
    "    # 2. Handle KeyError\n",
    "    # 3. Return (value, error_message) tuple\n",
    "    return (None, None)"
   ]
  },
  {
   "cell_type": "markdown",
   "id": "9b0436ac",
   "metadata": {},
   "source": [
    "## Question 14\n",
    "\n",
    "Create a function that takes a text string and:\n",
    "\n",
    "1. Uses regex to find words starting with capital letters\n",
    "2. Returns a list of found words\n",
    "3. Handles basic word pattern matching\n",
    "\n",
    "Use re module for regular expressions.\n",
    "\n",
    "Example: \"Hello World python\" → ['Hello', 'World']"
   ]
  },
  {
   "cell_type": "code",
   "execution_count": null,
   "id": "9243ff64",
   "metadata": {},
   "outputs": [],
   "source": []
  },
  {
   "cell_type": "markdown",
   "id": "edd25b60",
   "metadata": {},
   "source": [
    "## Question 15 \n",
    "\n",
    "Create a function that takes a string and:\n",
    "\n",
    "1. Attempts to find substring at given position\n",
    "2. Handles IndexError and ValueError\n",
    "3. Returns (substring, error_message) tuple\n",
    "\n",
    "Use try-except blocks for error handling.\n",
    "\n",
    "Example: \"hello\", 1, 3 → (\"ell\", None), \"hello\", 10, 3 → (None, \"Index out of range\")"
   ]
  },
  {
   "cell_type": "code",
   "execution_count": null,
   "id": "376e4845",
   "metadata": {},
   "outputs": [],
   "source": [
    "def safe_string_operation(text, start, length):\n",
    "    # TODO: Complete with try-except\n",
    "    # 1. Extract substring at position\n",
    "    # 2. Handle IndexError and ValueError\n",
    "    # 3. Return (substring, error_message) tuple\n",
    "    return (None, None)"
   ]
  },
  {
   "cell_type": "markdown",
   "id": "d8da6766",
   "metadata": {},
   "source": [
    "## Question 16 \n",
    "\n",
    "Create a function that takes a list of strings and:\n",
    "\n",
    "1. Attempts to convert each to integer\n",
    "2. Handles conversion errors gracefully\n",
    "3. Returns (valid_numbers, error_count) tuple\n",
    "\n",
    "Use try-except blocks for error handling.\n",
    "\n",
    "Example: [\"1\", \"2\", \"abc\", \"3\"] → ([1, 2, 3], 1)"
   ]
  },
  {
   "cell_type": "code",
   "execution_count": null,
   "id": "1dc9fb72",
   "metadata": {},
   "outputs": [],
   "source": [
    "def safe_file_processing(data):\n",
    "    # TODO: Complete with try-except\n",
    "    # 1. Convert strings to integers\n",
    "    # 2. Handle conversion errors\n",
    "    # 3. Return (valid_numbers, error_count) tuple\n",
    "    return ([], 0)"
   ]
  },
  {
   "cell_type": "markdown",
   "id": "1cf5c4ea",
   "metadata": {},
   "source": [
    "## Question 17\n",
    "\n",
    "Create a function that takes a text content string and:\n",
    "\n",
    "1. Counts lines, words, and characters\n",
    "2. Finds the longest line\n",
    "3. Returns a dictionary with statistics\n",
    "\n",
    "Use only Python standard library.\n",
    "\n",
    "Example: \"Hello\\nWorld\\nPython\" → {'lines': 3, 'words': 3, 'chars': 17, 'longest': 'Python'}"
   ]
  },
  {
   "cell_type": "code",
   "execution_count": null,
   "id": "720b788f",
   "metadata": {},
   "outputs": [],
   "source": [
    "def analyze_file_content(content):\n",
    "    # TODO: Complete this function\n",
    "    # 1. Count lines, words, and characters\n",
    "    # 2. Find the longest line\n",
    "    # 3. Return dictionary with statistics\n",
    "    return {}"
   ]
  },
  {
   "cell_type": "markdown",
   "id": "a9f6caf5",
   "metadata": {},
   "source": [
    "## Question 18\n",
    "\n",
    "Create a function that takes a list of operations and:\n",
    "\n",
    "1. Attempts to perform each operation\n",
    "2. Handles ValueError, TypeError, and IndexError\n",
    "3. Returns (success_count, error_count, errors) tuple\n",
    "\n",
    "Use try-except blocks for comprehensive error handling.\n",
    "\n",
    "Example: [\"1+1\", \"len(5)\", \"[1,2][5]\"] → (1, 2, ['TypeError', 'IndexError'])"
   ]
  },
  {
   "cell_type": "code",
   "execution_count": null,
   "id": "92958c45",
   "metadata": {},
   "outputs": [],
   "source": [
    "def comprehensive_error_handler(operations):\n",
    "    # TODO: Complete with comprehensive try-except\n",
    "    # 1. Attempt each operation\n",
    "    # 2. Handle multiple error types\n",
    "    # 3. Return (success_count, error_count, errors) tuple\n",
    "    return (0, 0, [])"
   ]
  },
  {
   "cell_type": "markdown",
   "id": "e7e14cb4",
   "metadata": {},
   "source": [
    "## Question 19\n",
    "\n",
    "Create a function that takes a text string and:\n",
    "\n",
    "1. Removes extra whitespace and newlines\n",
    "2. Removes special characters (keep alphanumeric and spaces)\n",
    "3. Returns cleaned text\n",
    "\n",
    "Use re module for regular expressions.\n",
    "\n",
    "Example: \"Hello World!\\n@#$%\" → \"Hello World\""
   ]
  },
  {
   "cell_type": "code",
   "execution_count": null,
   "id": "1d29d2ad",
   "metadata": {},
   "outputs": [],
   "source": [
    "def clean_text(text):\n",
    "    # TODO: Complete with regex\n",
    "    # 1. Remove extra whitespace and newlines\n",
    "    # 2. Remove special characters\n",
    "    # 3. Return cleaned text\n",
    "    import re\n",
    "    return \"\""
   ]
  },
  {
   "cell_type": "markdown",
   "id": "85a1d9ae",
   "metadata": {},
   "source": [
    "## Question 20 \n",
    "\n",
    "Create a function that takes a text string and:\n",
    "\n",
    "1. Uses regex to find all numbers (integers)\n",
    "2. Returns a list of found numbers\n",
    "3. Handles basic number pattern extraction\n",
    "\n",
    "Use re module for regular expressions.\n",
    "\n",
    "Example: \"Price: $100, Quantity: 50\" → [100, 50]"
   ]
  },
  {
   "cell_type": "code",
   "execution_count": null,
   "id": "e9f67be6",
   "metadata": {},
   "outputs": [],
   "source": [
    "def extract_numbers(text):\n",
    "    # TODO: Complete with regex\n",
    "    # 1. Use re module to find numbers\n",
    "    # 2. Return list of found numbers\n",
    "    import re\n",
    "    return []"
   ]
  }
 ],
 "metadata": {
  "kernelspec": {
   "display_name": "Python 3",
   "language": "python",
   "name": "python3"
  },
  "language_info": {
   "name": "python",
   "version": "3.13.3"
  }
 },
 "nbformat": 4,
 "nbformat_minor": 5
}
