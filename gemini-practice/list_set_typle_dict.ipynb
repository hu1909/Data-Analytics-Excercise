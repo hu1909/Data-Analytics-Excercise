{
  "cells": [
    {
      "cell_type": "markdown",
      "id": "08767779",
      "metadata": {
        "id": "08767779"
      },
      "source": [
        "## Easy Exercises ( 10 Questions)"
      ]
    },
    {
      "cell_type": "markdown",
      "id": "e5f3f3a4",
      "metadata": {
        "id": "e5f3f3a4"
      },
      "source": [
        "### Question 1\n",
        "\n",
        "(List) Create a list named colors containing three of your favorite colors. Print the second color in the list."
      ]
    },
    {
      "cell_type": "code",
      "execution_count": null,
      "id": "6711eaf1",
      "metadata": {
        "id": "6711eaf1",
        "outputId": "d4568c05-a6e7-49c0-d7ba-7a40ccda7c83"
      },
      "outputs": [
        {
          "name": "stdout",
          "output_type": "stream",
          "text": [
            "yellow\n"
          ]
        }
      ],
      "source": [
        "colors_list = ['red', 'yellow', 'blue', 'green', 'black']\n",
        "print(colors_list[1])\n"
      ]
    },
    {
      "cell_type": "markdown",
      "id": "cf9c5b30",
      "metadata": {
        "id": "cf9c5b30"
      },
      "source": [
        "## Quesition 2\n",
        "\n",
        "(Dictionary) Create a dictionary to represent a car with keys for \"brand\", \"model\", and \"year\". Print the value associated with the \"model\" key."
      ]
    },
    {
      "cell_type": "code",
      "execution_count": 6,
      "id": "3a4f0f74",
      "metadata": {
        "colab": {
          "base_uri": "https://localhost:8080/"
        },
        "id": "3a4f0f74",
        "outputId": "12916fe8-54ba-446d-c0fa-732a5ffe2234"
      },
      "outputs": [
        {
          "output_type": "stream",
          "name": "stdout",
          "text": [
            "i6\n"
          ]
        }
      ],
      "source": [
        "car_infor = {\"brand\": \"BMW\", \"model\": \"i6\", \"year\": 2024}\n",
        "\n",
        "print(car_infor[\"model\"])"
      ]
    },
    {
      "cell_type": "markdown",
      "id": "6af4892c",
      "metadata": {
        "id": "6af4892c"
      },
      "source": [
        "## Question 3\n",
        "\n",
        "(Set) Given the list [1, 2, 2, 3, 4, 3, 5], create a set from it to remove the duplicates and print the resulting set."
      ]
    },
    {
      "cell_type": "code",
      "execution_count": null,
      "id": "40f9817b",
      "metadata": {
        "id": "40f9817b",
        "outputId": "93cce32f-62db-4414-f6eb-ed3ce0dff9a5"
      },
      "outputs": [
        {
          "name": "stdout",
          "output_type": "stream",
          "text": [
            "{1, 2, 3, 4, 5}\n"
          ]
        }
      ],
      "source": [
        "test_list = [1, 2, 2, 3, 4, 3, 5]\n",
        "\n",
        "new_set = set(test_list)\n",
        "\n",
        "print(new_set)"
      ]
    },
    {
      "cell_type": "markdown",
      "id": "372d2cac",
      "metadata": {
        "id": "372d2cac"
      },
      "source": [
        "## Question 4\n",
        "\n",
        "(List) Start with the list [10, 20, 30]. Use the append() method to add the number 40 to the end of the list."
      ]
    },
    {
      "cell_type": "code",
      "execution_count": null,
      "id": "52ba8dfe",
      "metadata": {
        "id": "52ba8dfe",
        "outputId": "d8102ad9-52c6-441e-e3e7-d307199d186c"
      },
      "outputs": [
        {
          "name": "stdout",
          "output_type": "stream",
          "text": [
            "[10, 20, 30, 40]\n"
          ]
        }
      ],
      "source": [
        "test_list = [10, 20, 30]\n",
        "\n",
        "test_list.append(40)\n",
        "\n",
        "print(test_list)"
      ]
    },
    {
      "cell_type": "markdown",
      "id": "a2bce750",
      "metadata": {
        "id": "a2bce750"
      },
      "source": [
        "## Question 5\n",
        "\n",
        "(Tuple) Create a tuple named weekdays containing the days of the week from \"Monday\" to \"Friday\". Try to change the first element to \"Sunday\" and observe the error."
      ]
    },
    {
      "cell_type": "code",
      "execution_count": 4,
      "id": "a6b2da77",
      "metadata": {
        "colab": {
          "base_uri": "https://localhost:8080/"
        },
        "id": "a6b2da77",
        "outputId": "dbd80718-5bc8-4968-f8af-fdb44b2659b3"
      },
      "outputs": [
        {
          "output_type": "stream",
          "name": "stdout",
          "text": [
            "Tuple can not change its element\n"
          ]
        }
      ],
      "source": [
        "weekdays = ('Monday', 'Tuesday', 'Wednesday', 'Thursday', 'Friday', 'Saturday', 'Sunday')\n",
        "\n",
        "# As the Tuple is immutable so we can not change an element inside a tuple\n",
        "try:\n",
        "  weekdays[1] = 'Not Tuesday'\n",
        "except TypeError:\n",
        "  print(\"Tuple can not change its element\")"
      ]
    },
    {
      "cell_type": "markdown",
      "id": "7122205a",
      "metadata": {
        "id": "7122205a"
      },
      "source": [
        "## Question 6\n",
        "\n",
        "(Dictionary) Add a new key-value pair to the car dictionary from exercise 2. The new key should be \"color\" and its value can be any color you like."
      ]
    },
    {
      "cell_type": "code",
      "execution_count": 7,
      "id": "1b493661",
      "metadata": {
        "colab": {
          "base_uri": "https://localhost:8080/"
        },
        "id": "1b493661",
        "outputId": "bef7a79b-381f-469b-83f3-d3f09dbf5576"
      },
      "outputs": [
        {
          "output_type": "stream",
          "name": "stdout",
          "text": [
            "{'brand': 'BMW', 'model': 'i6', 'year': 2024, 'color': 'yellow'}\n"
          ]
        }
      ],
      "source": [
        "car_infor[\"color\"] = \"yellow\"\n",
        "\n",
        "print(car_infor)"
      ]
    },
    {
      "cell_type": "markdown",
      "id": "7ef78b10",
      "metadata": {
        "id": "7ef78b10"
      },
      "source": [
        "## Question 7\n",
        "\n",
        "(Set) Create a set of your favorite fruits and use the add() method to add a new fruit to it."
      ]
    },
    {
      "cell_type": "code",
      "execution_count": 8,
      "id": "9f9c9f50",
      "metadata": {
        "colab": {
          "base_uri": "https://localhost:8080/"
        },
        "id": "9f9c9f50",
        "outputId": "c9a3d99d-26bb-4246-ff25-1a87222ff841"
      },
      "outputs": [
        {
          "output_type": "stream",
          "name": "stdout",
          "text": [
            "{'Banana', 'Blueberry', 'Grape', 'Apple', 'Orange'}\n"
          ]
        }
      ],
      "source": [
        "fav_fruits = {'Banana', 'Apple', 'Orange', 'Grape'}\n",
        "fav_fruits.add('Blueberry')\n",
        "\n",
        "print(fav_fruits)"
      ]
    },
    {
      "cell_type": "markdown",
      "id": "5be5d9e6",
      "metadata": {
        "id": "5be5d9e6"
      },
      "source": [
        "## Question 8\n",
        "\n",
        "(List) From the list ['a', 'b', 'c', 'd', 'e'], use negative indexing to print the last item."
      ]
    },
    {
      "cell_type": "code",
      "execution_count": 9,
      "id": "47117677",
      "metadata": {
        "colab": {
          "base_uri": "https://localhost:8080/"
        },
        "id": "47117677",
        "outputId": "247b3a57-b5cc-4919-fd3a-78a20fedad4d"
      },
      "outputs": [
        {
          "output_type": "stream",
          "name": "stdout",
          "text": [
            "e\n"
          ]
        }
      ],
      "source": [
        "alphabet_list = ['a', 'b', 'c', 'd', 'e']\n",
        "print(alphabet_list[-1])"
      ]
    },
    {
      "cell_type": "markdown",
      "id": "778af364",
      "metadata": {
        "id": "778af364"
      },
      "source": [
        "## Question 9\n",
        "\n",
        "(Dictionary) Use the .get() method to safely access the value for the key \"engine\" in your car dictionary. Provide a default value of \"Not specified\"."
      ]
    },
    {
      "cell_type": "code",
      "execution_count": 12,
      "id": "8ae65615",
      "metadata": {
        "colab": {
          "base_uri": "https://localhost:8080/"
        },
        "id": "8ae65615",
        "outputId": "69479086-9961-4cf0-a651-eeb9d0803804"
      },
      "outputs": [
        {
          "output_type": "stream",
          "name": "stdout",
          "text": [
            "Not specified\n"
          ]
        }
      ],
      "source": [
        "car_infor\n",
        "\n",
        "print(car_infor.get('engine', 'Not specified'))"
      ]
    },
    {
      "cell_type": "markdown",
      "id": "43994eb6",
      "metadata": {
        "id": "43994eb6"
      },
      "source": [
        "## Question 10\n",
        "\n",
        "(Tuple) Create a tuple with only one item, the number 50. Remember the special syntax for this."
      ]
    },
    {
      "cell_type": "code",
      "source": [
        "new_tuple = (50,)\n",
        "\n",
        "print(new_tuple)\n"
      ],
      "metadata": {
        "colab": {
          "base_uri": "https://localhost:8080/"
        },
        "id": "Ty99HX5Xr6xq",
        "outputId": "aca734b9-d61f-431c-8f6c-1a2e03538943"
      },
      "id": "Ty99HX5Xr6xq",
      "execution_count": 16,
      "outputs": [
        {
          "output_type": "stream",
          "name": "stdout",
          "text": [
            "(50,)\n"
          ]
        }
      ]
    }
  ],
  "metadata": {
    "kernelspec": {
      "display_name": "Python 3",
      "language": "python",
      "name": "python3"
    },
    "language_info": {
      "codemirror_mode": {
        "name": "ipython",
        "version": 3
      },
      "file_extension": ".py",
      "mimetype": "text/x-python",
      "name": "python",
      "nbconvert_exporter": "python",
      "pygments_lexer": "ipython3",
      "version": "3.13.3"
    },
    "colab": {
      "provenance": []
    }
  },
  "nbformat": 4,
  "nbformat_minor": 5
}