{
 "cells": [
  {
   "cell_type": "markdown",
   "id": "08767779",
   "metadata": {},
   "source": [
    "## Easy Exercises ( 10 Questions)"
   ]
  },
  {
   "cell_type": "markdown",
   "id": "e5f3f3a4",
   "metadata": {},
   "source": [
    "### Question 1 \n",
    "\n",
    "(List) Create a list named colors containing three of your favorite colors. Print the second color in the list."
   ]
  },
  {
   "cell_type": "code",
   "execution_count": null,
   "id": "6711eaf1",
   "metadata": {},
   "outputs": [
    {
     "name": "stdout",
     "output_type": "stream",
     "text": [
      "yellow\n"
     ]
    }
   ],
   "source": [
    "colors_list = ['red', 'yellow', 'blue', 'green', 'black']\n",
    "print(colors_list[1])\n"
   ]
  },
  {
   "cell_type": "markdown",
   "id": "cf9c5b30",
   "metadata": {},
   "source": [
    "## Quesition 2\n",
    "\n",
    "(Dictionary) Create a dictionary to represent a car with keys for \"brand\", \"model\", and \"year\". Print the value associated with the \"model\" key."
   ]
  },
  {
   "cell_type": "code",
   "execution_count": 2,
   "id": "3a4f0f74",
   "metadata": {},
   "outputs": [
    {
     "name": "stdout",
     "output_type": "stream",
     "text": [
      "i6\n"
     ]
    }
   ],
   "source": [
    "car_infor = {\"brand\": \"BMW\", \"model\": \"i6\", \"year\": 2024}\n",
    "\n",
    "print(car_infor[\"model\"])"
   ]
  },
  {
   "cell_type": "markdown",
   "id": "6af4892c",
   "metadata": {},
   "source": [
    "## Question 3 \n",
    "\n",
    "(Set) Given the list [1, 2, 2, 3, 4, 3, 5], create a set from it to remove the duplicates and print the resulting set."
   ]
  },
  {
   "cell_type": "code",
   "execution_count": 3,
   "id": "40f9817b",
   "metadata": {},
   "outputs": [
    {
     "name": "stdout",
     "output_type": "stream",
     "text": [
      "{1, 2, 3, 4, 5}\n"
     ]
    }
   ],
   "source": [
    "test_list = [1, 2, 2, 3, 4, 3, 5]\n",
    "\n",
    "new_set = set(test_list)\n",
    "\n",
    "print(new_set)"
   ]
  },
  {
   "cell_type": "markdown",
   "id": "372d2cac",
   "metadata": {},
   "source": [
    "## Question 4\n",
    "\n",
    "(List) Start with the list [10, 20, 30]. Use the append() method to add the number 40 to the end of the list."
   ]
  },
  {
   "cell_type": "code",
   "execution_count": 4,
   "id": "52ba8dfe",
   "metadata": {},
   "outputs": [
    {
     "name": "stdout",
     "output_type": "stream",
     "text": [
      "[10, 20, 30, 40]\n"
     ]
    }
   ],
   "source": [
    "test_list = [10, 20, 30]\n",
    "\n",
    "test_list.append(40)\n",
    "\n",
    "print(test_list)"
   ]
  },
  {
   "cell_type": "markdown",
   "id": "a2bce750",
   "metadata": {},
   "source": [
    "## Question 5\n",
    "\n",
    "(Tuple) Create a tuple named weekdays containing the days of the week from \"Monday\" to \"Friday\". Try to change the first element to \"Sunday\" and observe the error."
   ]
  },
  {
   "cell_type": "code",
   "execution_count": null,
   "id": "a6b2da77",
   "metadata": {},
   "outputs": [],
   "source": []
  },
  {
   "cell_type": "markdown",
   "id": "7122205a",
   "metadata": {},
   "source": [
    "## Question 6 \n",
    "\n",
    "(Dictionary) Add a new key-value pair to the car dictionary from exercise 2. The new key should be \"color\" and its value can be any color you like."
   ]
  },
  {
   "cell_type": "code",
   "execution_count": null,
   "id": "1b493661",
   "metadata": {},
   "outputs": [],
   "source": []
  },
  {
   "cell_type": "markdown",
   "id": "7ef78b10",
   "metadata": {},
   "source": [
    "## Question 7 \n",
    "\n",
    "(Set) Create a set of your favorite fruits and use the add() method to add a new fruit to it."
   ]
  },
  {
   "cell_type": "code",
   "execution_count": null,
   "id": "9f9c9f50",
   "metadata": {},
   "outputs": [],
   "source": []
  },
  {
   "cell_type": "markdown",
   "id": "5be5d9e6",
   "metadata": {},
   "source": [
    "## Question 8 \n",
    "\n",
    "(List) From the list ['a', 'b', 'c', 'd', 'e'], use negative indexing to print the last item."
   ]
  },
  {
   "cell_type": "code",
   "execution_count": null,
   "id": "47117677",
   "metadata": {},
   "outputs": [],
   "source": []
  },
  {
   "cell_type": "markdown",
   "id": "778af364",
   "metadata": {},
   "source": [
    "## Question 9\n",
    "\n",
    "(Dictionary) Use the .get() method to safely access the value for the key \"engine\" in your car dictionary. Provide a default value of \"Not specified\"."
   ]
  },
  {
   "cell_type": "code",
   "execution_count": null,
   "id": "8ae65615",
   "metadata": {},
   "outputs": [],
   "source": []
  },
  {
   "cell_type": "markdown",
   "id": "43994eb6",
   "metadata": {},
   "source": [
    "## Question 10 \n",
    "\n",
    "(Tuple) Create a tuple with only one item, the number 50. Remember the special syntax for this."
   ]
  }
 ],
 "metadata": {
  "kernelspec": {
   "display_name": "Python 3",
   "language": "python",
   "name": "python3"
  },
  "language_info": {
   "codemirror_mode": {
    "name": "ipython",
    "version": 3
   },
   "file_extension": ".py",
   "mimetype": "text/x-python",
   "name": "python",
   "nbconvert_exporter": "python",
   "pygments_lexer": "ipython3",
   "version": "3.13.3"
  }
 },
 "nbformat": 4,
 "nbformat_minor": 5
}
